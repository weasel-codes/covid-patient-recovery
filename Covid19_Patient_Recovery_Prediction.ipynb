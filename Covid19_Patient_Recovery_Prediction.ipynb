{
  "nbformat": 4,
  "nbformat_minor": 0,
  "metadata": {
    "colab": {
      "name": "Covid19-Patient-Recovery-Prediction.ipynb",
      "provenance": [],
      "authorship_tag": "ABX9TyPvc4e0GD1GVie7cZ8qvSLO",
      "include_colab_link": true
    },
    "kernelspec": {
      "name": "python3",
      "display_name": "Python 3"
    }
  },
  "cells": [
    {
      "cell_type": "markdown",
      "metadata": {
        "id": "view-in-github",
        "colab_type": "text"
      },
      "source": [
        "<a href=\"https://colab.research.google.com/github/weasel-codes/covid-patient-recovery/blob/main/Covid19_Patient_Recovery_Prediction.ipynb\" target=\"_parent\"><img src=\"https://colab.research.google.com/assets/colab-badge.svg\" alt=\"Open In Colab\"/></a>"
      ]
    },
    {
      "cell_type": "markdown",
      "metadata": {
        "id": "aqqIzn1oCz-B"
      },
      "source": [
        "# Relevant imports"
      ]
    },
    {
      "cell_type": "code",
      "metadata": {
        "id": "ccqsAyG_BKNt"
      },
      "source": [
        "import numpy as np\n",
        "import matplotlib.pyplot as plot\n",
        "import pandas as pd"
      ],
      "execution_count": 67,
      "outputs": []
    },
    {
      "cell_type": "markdown",
      "metadata": {
        "id": "PdaVnpg5DreN"
      },
      "source": [
        "# Importing Dataset"
      ]
    },
    {
      "cell_type": "code",
      "metadata": {
        "colab": {
          "base_uri": "https://localhost:8080/"
        },
        "id": "9ef5ir93EAYk",
        "outputId": "aba7f901-f067-4bed-8e9c-0837361374d2"
      },
      "source": [
        "dataset = pd.read_csv('PatientInfo.csv')\n",
        "dataset = dataset[{'sex','age','infection_case','confirmed_date','released_date','deceased_date', 'state'}]\n",
        "print(\"Shape of Dataset : \", dataset.shape)\n",
        "print(\"No. of Nan values per column : \")\n",
        "dataset.isnull().sum()"
      ],
      "execution_count": 73,
      "outputs": [
        {
          "output_type": "stream",
          "text": [
            "Shape of Dataset :  (5165, 7)\n",
            "No. of Nan values per column : \n"
          ],
          "name": "stdout"
        },
        {
          "output_type": "execute_result",
          "data": {
            "text/plain": [
              "age               1380\n",
              "sex               1122\n",
              "state                0\n",
              "confirmed_date       3\n",
              "infection_case     919\n",
              "deceased_date     5099\n",
              "released_date     3578\n",
              "dtype: int64"
            ]
          },
          "metadata": {
            "tags": []
          },
          "execution_count": 73
        }
      ]
    },
    {
      "cell_type": "code",
      "metadata": {
        "colab": {
          "base_uri": "https://localhost:8080/"
        },
        "id": "n2kFUeCeLqeV",
        "outputId": "01717670-ab5b-48bb-9404-35e45d9282a2"
      },
      "source": [
        "from datetime import date\n",
        "\n",
        "print(\"Shape of dataset before removing Nan from any column : \", dataset.shape)\n",
        "\n",
        "dataset = dataset.dropna(subset=['confirmed_date'], how='all')\n",
        "print(\"Shape of dataset after removing Nan from confirmed_date column : \", dataset.shape)\n",
        "\n",
        "dataset = dataset.dropna(subset=['deceased_date', 'released_date'], how='all')\n",
        "print(\"Shape of dataset after removing Nan from deceased_date and released_date column : \", dataset.shape)\n",
        "print(\"\\nNo. of Nan values per column after removing released, deceased, confirmed date : \")\n",
        "print(dataset.isnull().sum())\n",
        "\n",
        "dataset = dataset.dropna(subset=['infection_case'], how='all')\n",
        "print(\"\\nShape of dataset after removing Nan from infection_case column : \", dataset.shape)\n",
        "\n",
        "print(\"No. of Nan values per column after removing Nan values from infection_case : \")\n",
        "print(dataset.isnull().sum())"
      ],
      "execution_count": 74,
      "outputs": [
        {
          "output_type": "stream",
          "text": [
            "Shape of dataset before removing Nan from any column :  (5165, 7)\n",
            "Shape of dataset after removing Nan from confirmed_date column :  (5162, 7)\n",
            "Shape of dataset after removing Nan from deceased_date and released_date column :  (1651, 7)\n",
            "\n",
            "No. of Nan values per column after removing released, deceased, confirmed date : \n",
            "age                 11\n",
            "sex                  1\n",
            "state                0\n",
            "confirmed_date       0\n",
            "infection_case     611\n",
            "deceased_date     1585\n",
            "released_date       64\n",
            "dtype: int64\n",
            "\n",
            "Shape of dataset after removing Nan from infection_case column :  (1040, 7)\n",
            "No. of Nan values per column after removing Nan values from infection_case : \n",
            "age                 11\n",
            "sex                  1\n",
            "state                0\n",
            "confirmed_date       0\n",
            "infection_case       0\n",
            "deceased_date     1012\n",
            "released_date       27\n",
            "dtype: int64\n"
          ],
          "name": "stdout"
        }
      ]
    },
    {
      "cell_type": "code",
      "metadata": {
        "colab": {
          "base_uri": "https://localhost:8080/"
        },
        "id": "k-9aLQtJIN9A",
        "outputId": "a8a65ce7-3f16-4f66-b1fd-c0a2989dbeda"
      },
      "source": [
        "dataset = dataset.iloc[:,:].values\n",
        "dataset"
      ],
      "execution_count": 75,
      "outputs": [
        {
          "output_type": "execute_result",
          "data": {
            "text/plain": [
              "array([['50s', 'male', 'released', ..., 'overseas inflow', nan,\n",
              "        '2020-02-05'],\n",
              "       ['30s', 'male', 'released', ..., 'overseas inflow', nan,\n",
              "        '2020-03-02'],\n",
              "       ['50s', 'male', 'released', ..., 'contact with patient', nan,\n",
              "        '2020-02-19'],\n",
              "       ...,\n",
              "       ['30s', 'female', 'released', ..., 'Itaewon Clubs', nan,\n",
              "        '2020-06-12'],\n",
              "       ['30s', 'female', 'released', ..., 'overseas inflow', nan,\n",
              "        '2020-06-13'],\n",
              "       [nan, nan, 'released', ..., 'overseas inflow', nan, '2020-06-24']],\n",
              "      dtype=object)"
            ]
          },
          "metadata": {
            "tags": []
          },
          "execution_count": 75
        }
      ]
    },
    {
      "cell_type": "markdown",
      "metadata": {
        "id": "axPLE3_iCzfy"
      },
      "source": [
        ""
      ]
    }
  ]
}