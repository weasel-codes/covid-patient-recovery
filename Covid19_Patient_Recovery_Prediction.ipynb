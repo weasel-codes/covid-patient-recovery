{
  "nbformat": 4,
  "nbformat_minor": 0,
  "metadata": {
    "colab": {
      "name": "Covid19-Patient-Recovery-Prediction.ipynb",
      "provenance": [],
      "collapsed_sections": [],
      "include_colab_link": true
    },
    "kernelspec": {
      "name": "python3",
      "display_name": "Python 3"
    }
  },
  "cells": [
    {
      "cell_type": "markdown",
      "metadata": {
        "id": "view-in-github",
        "colab_type": "text"
      },
      "source": [
        "<a href=\"https://colab.research.google.com/github/weasel-codes/covid-patient-recovery/blob/main/Covid19_Patient_Recovery_Prediction.ipynb\" target=\"_parent\"><img src=\"https://colab.research.google.com/assets/colab-badge.svg\" alt=\"Open In Colab\"/></a>"
      ]
    },
    {
      "cell_type": "markdown",
      "metadata": {
        "id": "aqqIzn1oCz-B"
      },
      "source": [
        "# Relevant imports"
      ]
    },
    {
      "cell_type": "code",
      "metadata": {
        "id": "ccqsAyG_BKNt"
      },
      "source": [
        "import numpy as np\n",
        "import matplotlib.pyplot as plot\n",
        "import pandas as pd"
      ],
      "execution_count": 1,
      "outputs": []
    },
    {
      "cell_type": "markdown",
      "metadata": {
        "id": "PdaVnpg5DreN"
      },
      "source": [
        "# Importing Dataset"
      ]
    },
    {
      "cell_type": "code",
      "metadata": {
        "colab": {
          "base_uri": "https://localhost:8080/"
        },
        "id": "9ef5ir93EAYk",
        "outputId": "a161c338-e2bf-4343-cdf1-6d29c2e555da"
      },
      "source": [
        "dataset = pd.read_csv('PatientInfo.csv')\n",
        "# print(\"\\n\\nAll Columns : \")\n",
        "# print(dataset.info())\n",
        "dataset = dataset[{'sex','age','infection_case','confirmed_date','released_date','deceased_date', 'state'}]\n",
        "# print(\"\\n\\nRelevant Columns : \")\n",
        "# print(dataset.info())\n",
        "# print(\"Shape of Dataset : \", dataset.shape)\n",
        "print(\"No. of Nan values per column : \")\n",
        "dataset.isnull().sum()"
      ],
      "execution_count": 2,
      "outputs": [
        {
          "output_type": "stream",
          "text": [
            "No. of Nan values per column : \n"
          ],
          "name": "stdout"
        },
        {
          "output_type": "execute_result",
          "data": {
            "text/plain": [
              "state                0\n",
              "deceased_date     5099\n",
              "sex               1122\n",
              "age               1380\n",
              "confirmed_date       3\n",
              "infection_case     919\n",
              "released_date     3578\n",
              "dtype: int64"
            ]
          },
          "metadata": {
            "tags": []
          },
          "execution_count": 2
        }
      ]
    },
    {
      "cell_type": "markdown",
      "metadata": {
        "id": "oJx3y5S9FFmH"
      },
      "source": [
        "# Pre-Processing Dataset"
      ]
    },
    {
      "cell_type": "code",
      "metadata": {
        "colab": {
          "base_uri": "https://localhost:8080/"
        },
        "id": "fBbKYQ8gV2vU",
        "outputId": "9bf4296d-41f5-439f-9792-7570c1fed800"
      },
      "source": [
        "print(\"Shape of dataset before removing Nan from any column : \", dataset.shape)\n",
        "\n",
        "dataset = dataset.dropna(subset=['confirmed_date'], how='all')\n",
        "# print(\"\\nShape of dataset after removing Nan from confirmed_date : \", dataset.shape)\n",
        "dataset = dataset[dataset.state != 'isolated']\n",
        "# print(\"\\nShape of dataset after removing Nan from column state = isolated : \", dataset.shape)\n",
        "# print(\"No. of Nan values per column after removing Nan values from column state = isolated : \")\n",
        "# print(dataset.isnull().sum())\n",
        "dataset = dataset.dropna(subset=['deceased_date', 'released_date'], how='all')\n",
        "# print(\"\\nShape of dataset after removing Nan from column deceased and released date : \", dataset.shape)\n",
        "# print(\"No. of Nan values per column after removing released, deceased, confirmed date : \")\n",
        "# print(dataset.isnull().sum())\n",
        "dataset['sex'].fillna(method=\"ffill\", inplace = True)\n",
        "dataset['age'].fillna(method=\"ffill\", inplace = True)\n",
        "dataset['infection_case'].fillna(method=\"ffill\", inplace = True)\n",
        "print(\"No. of Nan values per column after removing Nans : \")\n",
        "print(dataset.isnull().sum())\n",
        "\n",
        "print(\"\\n\\nShape of dataset after removing Nan from any column : \", dataset.shape)\n",
        "print(\"Sample Dataset : \\n\", dataset.iloc[0])"
      ],
      "execution_count": 3,
      "outputs": [
        {
          "output_type": "stream",
          "text": [
            "Shape of dataset before removing Nan from any column :  (5165, 7)\n",
            "No. of Nan values per column after removing Nans : \n",
            "state                0\n",
            "deceased_date     1580\n",
            "sex                  0\n",
            "age                  0\n",
            "confirmed_date       0\n",
            "infection_case       0\n",
            "released_date       64\n",
            "dtype: int64\n",
            "\n",
            "\n",
            "Shape of dataset after removing Nan from any column :  (1646, 7)\n",
            "Sample Dataset : \n",
            " state                    released\n",
            "deceased_date                 NaN\n",
            "sex                          male\n",
            "age                           50s\n",
            "confirmed_date         2020-01-23\n",
            "infection_case    overseas inflow\n",
            "released_date          2020-02-05\n",
            "Name: 0, dtype: object\n"
          ],
          "name": "stdout"
        }
      ]
    },
    {
      "cell_type": "markdown",
      "metadata": {
        "id": "OKkB_E40yhD5"
      },
      "source": [
        "## Processing dataset columns"
      ]
    },
    {
      "cell_type": "code",
      "metadata": {
        "id": "jDuLlm0VQPpu"
      },
      "source": [
        "age = np.array(dataset['age'])\n",
        "sex = np.array(dataset['sex'])\n",
        "state = np.array(dataset['state'])\n",
        "confirm = np.array(dataset['confirmed_date'])\n",
        "deceased = np.array(dataset['deceased_date'])\n",
        "infection = np.array(dataset['infection_case'])\n",
        "release = np.array(dataset['released_date'])"
      ],
      "execution_count": 4,
      "outputs": []
    },
    {
      "cell_type": "markdown",
      "metadata": {
        "id": "SLNjP_9sywzR"
      },
      "source": [
        "## Generating array"
      ]
    },
    {
      "cell_type": "code",
      "metadata": {
        "colab": {
          "base_uri": "https://localhost:8080/"
        },
        "id": "kc1-w6mqR7NK",
        "outputId": "bdf212e2-c3d4-42ad-871f-795bba4950a7"
      },
      "source": [
        "data = np.column_stack((age, sex, infection, confirm, release, deceased, state))\n",
        "print(data)"
      ],
      "execution_count": 5,
      "outputs": [
        {
          "output_type": "stream",
          "text": [
            "[['50s' 'male' 'overseas inflow' ... '2020-02-05' nan 'released']\n",
            " ['30s' 'male' 'overseas inflow' ... '2020-03-02' nan 'released']\n",
            " ['50s' 'male' 'contact with patient' ... '2020-02-19' nan 'released']\n",
            " ...\n",
            " ['30s' 'female' 'Itaewon Clubs' ... '2020-06-12' nan 'released']\n",
            " ['30s' 'female' 'overseas inflow' ... '2020-06-13' nan 'released']\n",
            " ['30s' 'female' 'overseas inflow' ... '2020-06-24' nan 'released']]\n"
          ],
          "name": "stdout"
        }
      ]
    },
    {
      "cell_type": "markdown",
      "metadata": {
        "id": "ylQfj1KJy0VT"
      },
      "source": [
        "## Processing age for removing 's'"
      ]
    },
    {
      "cell_type": "code",
      "metadata": {
        "id": "k-9aLQtJIN9A",
        "colab": {
          "base_uri": "https://localhost:8080/"
        },
        "outputId": "beccf24b-4531-40cb-d638-1677975a4435"
      },
      "source": [
        "for i in range(len(data)):\n",
        "  data[i,0] = pd.to_numeric(data[i,0].replace('s',''))\n",
        "print(data)"
      ],
      "execution_count": 6,
      "outputs": [
        {
          "output_type": "stream",
          "text": [
            "[[50 'male' 'overseas inflow' ... '2020-02-05' nan 'released']\n",
            " [30 'male' 'overseas inflow' ... '2020-03-02' nan 'released']\n",
            " [50 'male' 'contact with patient' ... '2020-02-19' nan 'released']\n",
            " ...\n",
            " [30 'female' 'Itaewon Clubs' ... '2020-06-12' nan 'released']\n",
            " [30 'female' 'overseas inflow' ... '2020-06-13' nan 'released']\n",
            " [30 'female' 'overseas inflow' ... '2020-06-24' nan 'released']]\n"
          ],
          "name": "stdout"
        }
      ]
    },
    {
      "cell_type": "markdown",
      "metadata": {
        "id": "IPPJTL1QBKh8"
      },
      "source": [
        "## Create new column for no. of days."
      ]
    },
    {
      "cell_type": "code",
      "metadata": {
        "id": "5jnQ1xWXVSDT",
        "colab": {
          "base_uri": "https://localhost:8080/"
        },
        "outputId": "40353957-a8be-4e73-830f-55fef99468fe"
      },
      "source": [
        "print(\"Shape before adding column : \", data.shape)\n",
        "new_column = np.zeros((len(data), 1))\n",
        "data = np.block([data, new_column])\n",
        "print(\"Shape after adding column : \", data.shape)"
      ],
      "execution_count": 7,
      "outputs": [
        {
          "output_type": "stream",
          "text": [
            "Shape before adding column :  (1646, 7)\n",
            "Shape after adding column :  (1646, 8)\n"
          ],
          "name": "stdout"
        }
      ]
    },
    {
      "cell_type": "markdown",
      "metadata": {
        "id": "RLhmaCkeCm3g"
      },
      "source": [
        "## Update No. of days\n",
        "Dataset example :\n",
        "[age, sex, infection, confirm, release, deceased, state, no_od_days]"
      ]
    },
    {
      "cell_type": "code",
      "metadata": {
        "colab": {
          "base_uri": "https://localhost:8080/"
        },
        "id": "lTTbKjQLCqQg",
        "outputId": "93a9f2df-13dc-4a5e-e557-15e8626a02ba"
      },
      "source": [
        "for i in range(len(data)) :\n",
        "  if data[i,6] == 'released' :\n",
        "    data[i,7] = (np.datetime64(data[i,4]) - np.datetime64(data[i,3]))/ np.timedelta64(1, 'D')\n",
        "  else :\n",
        "    if pd.isna(data[i,5]) : #if deceased date is empty\n",
        "      data[i,7] = (np.datetime64(data[i,4]) - np.datetime64(data[i,3]))/ np.timedelta64(1, 'D')\n",
        "    else :\n",
        "      data[i,7] = (np.datetime64(data[i,5]) - np.datetime64(data[i,3]))/ np.timedelta64(1, 'D')\n",
        "  \n",
        "print(\"Check for days change : \", data[0])"
      ],
      "execution_count": 8,
      "outputs": [
        {
          "output_type": "stream",
          "text": [
            "Check for days change :  [50 'male' 'overseas inflow' '2020-01-23' '2020-02-05' nan 'released' 13.0]\n"
          ],
          "name": "stdout"
        }
      ]
    },
    {
      "cell_type": "markdown",
      "metadata": {
        "id": "2rBRRvzazgQx"
      },
      "source": [
        "## Selecting final relevant columns from array for processing data\n",
        "Dataset example : [age, sex, infection, state, no_of_days]"
      ]
    },
    {
      "cell_type": "code",
      "metadata": {
        "id": "FciICinJzmu2"
      },
      "source": [
        "relevant_data = data[:,[0,1,2,6,7]]"
      ],
      "execution_count": 9,
      "outputs": []
    },
    {
      "cell_type": "markdown",
      "metadata": {
        "id": "2xkKjzl_1YYJ"
      },
      "source": [
        "## Separating relevant columns from X and Y\n",
        "We aonly need no. of days and not other dates "
      ]
    },
    {
      "cell_type": "code",
      "metadata": {
        "colab": {
          "base_uri": "https://localhost:8080/"
        },
        "id": "jTiJzg8t2VtW",
        "outputId": "9cf3bb00-61b8-4bed-e294-3e9e4bdd93ec"
      },
      "source": [
        "X = relevant_data[:,[0,1,2,4]]\n",
        "Y = relevant_data[:,3]\n",
        "print(X[0])\n",
        "print(Y[0])"
      ],
      "execution_count": 10,
      "outputs": [
        {
          "output_type": "stream",
          "text": [
            "[50 'male' 'overseas inflow' 13.0]\n",
            "released\n"
          ],
          "name": "stdout"
        }
      ]
    },
    {
      "cell_type": "markdown",
      "metadata": {
        "id": "alQl6vT10S8K"
      },
      "source": [
        "## Encoding Dataset\n",
        "encoding dataset ref : https://machinelearningmastery.com/how-to-one-hot-encode-sequence-data-in-python/"
      ]
    },
    {
      "cell_type": "code",
      "metadata": {
        "id": "kDxfT0mf23WJ"
      },
      "source": [
        "#Encoding Categorical Data with Label Encoding for Gender and One hot Encoding Country \n",
        "#Lebel Encoding when there is relation btw values : male or female : gives them 0,1,2\n",
        "#One Hot Encoding when there is no relation between them : Country : Makes separate column for each with binary values\n",
        "# reference : https://machinelearningmastery.com/how-to-one-hot-encode-sequence-data-in-python/\n",
        "from sklearn.preprocessing import LabelEncoder\n",
        "from sklearn.compose import ColumnTransformer\n",
        "from sklearn.preprocessing import OneHotEncoder"
      ],
      "execution_count": 11,
      "outputs": []
    },
    {
      "cell_type": "code",
      "metadata": {
        "id": "EUXmDkkY4A8A"
      },
      "source": [
        "le = LabelEncoder()\n",
        "\n",
        "X[:,1] = le.fit_transform(X[:,1]) #For Gender 0 and 1\n",
        "Y = le.fit_transform(Y) #For Gender 0 and 1\n",
        "\n",
        "# define one hot encoding\n",
        "encoder = OneHotEncoder(sparse=False)\n",
        "ct = ColumnTransformer([('encoder', encoder, [2])],remainder='passthrough')\n",
        "X = np.array(ct.fit_transform(X))"
      ],
      "execution_count": 12,
      "outputs": []
    },
    {
      "cell_type": "code",
      "metadata": {
        "id": "drPHHrYc4qgj",
        "colab": {
          "base_uri": "https://localhost:8080/"
        },
        "outputId": "8d08eb3b-1e6a-4799-9b73-8fc64ccf07cf"
      },
      "source": [
        "print(\"Before encoding X : \", X[0:5])\n",
        "print(\"After encoding Y : \", Y[0:5])"
      ],
      "execution_count": 13,
      "outputs": [
        {
          "output_type": "stream",
          "text": [
            "Before encoding X :  [[0.0 0.0 0.0 0.0 0.0 0.0 0.0 0.0 0.0 0.0 0.0 0.0 0.0 0.0 0.0 0.0 0.0 0.0\n",
            "  0.0 0.0 1.0 50 1 13.0]\n",
            " [0.0 0.0 0.0 0.0 0.0 0.0 0.0 0.0 0.0 0.0 0.0 0.0 0.0 0.0 0.0 0.0 0.0 0.0\n",
            "  0.0 0.0 1.0 30 1 32.0]\n",
            " [0.0 0.0 0.0 0.0 0.0 0.0 0.0 0.0 0.0 0.0 0.0 0.0 0.0 0.0 0.0 0.0 1.0 0.0\n",
            "  0.0 0.0 0.0 50 1 20.0]\n",
            " [0.0 0.0 0.0 0.0 0.0 0.0 0.0 0.0 0.0 0.0 0.0 0.0 0.0 0.0 0.0 0.0 0.0 0.0\n",
            "  0.0 0.0 1.0 20 1 16.0]\n",
            " [0.0 0.0 0.0 0.0 0.0 0.0 0.0 0.0 0.0 0.0 0.0 0.0 0.0 0.0 0.0 0.0 1.0 0.0\n",
            "  0.0 0.0 0.0 20 0 24.0]]\n",
            "After encoding Y :  [1 1 1 1 1]\n"
          ],
          "name": "stdout"
        }
      ]
    },
    {
      "cell_type": "markdown",
      "metadata": {
        "id": "57UhhMAEEQwz"
      },
      "source": [
        "# Separating Dataset into Training and testing"
      ]
    },
    {
      "cell_type": "code",
      "metadata": {
        "colab": {
          "base_uri": "https://localhost:8080/"
        },
        "id": "o5oZy9OaETvh",
        "outputId": "d47afd93-3122-403b-eb3b-dbc79b208f40"
      },
      "source": [
        "# To create 4 separate set : 2 for training set of dependent and independent vars and same 2 for testing set\n",
        "# XTrain XTest YTrain YTest\n",
        "\n",
        "from sklearn.model_selection import train_test_split\n",
        "X_train, X_test, Y_train, Y_test = train_test_split(X, Y, test_size=0.2, random_state=1) #80:20 :: Train:Test\n",
        "\n",
        "print(\"Train set for X : \", X_train.shape)\n",
        "print(\"Test set for X : \", X_test.shape)\n",
        "print(\"Train set for Y : \", Y_train.shape)\n",
        "print(\"Test set for Y : \", Y_test.shape)"
      ],
      "execution_count": 14,
      "outputs": [
        {
          "output_type": "stream",
          "text": [
            "Train set for X :  (1316, 24)\n",
            "Test set for X :  (330, 24)\n",
            "Train set for Y :  (1316,)\n",
            "Test set for Y :  (330,)\n"
          ],
          "name": "stdout"
        }
      ]
    }
  ]
}