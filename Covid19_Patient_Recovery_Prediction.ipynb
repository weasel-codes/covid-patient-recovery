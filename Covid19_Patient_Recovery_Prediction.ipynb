{
  "nbformat": 4,
  "nbformat_minor": 0,
  "metadata": {
    "colab": {
      "name": "Covid19-Patient-Recovery-Prediction.ipynb",
      "provenance": [],
      "collapsed_sections": [
        "aqqIzn1oCz-B",
        "PdaVnpg5DreN",
        "oJx3y5S9FFmH",
        "2rBRRvzazgQx",
        "2xkKjzl_1YYJ",
        "alQl6vT10S8K",
        "57UhhMAEEQwz",
        "WIQ-MfC1kQU9",
        "pYG-Bvi4kmvI",
        "tIbbXP1zk3mQ",
        "mNGRM0WgubVz",
        "8UF6leUik4uP",
        "8SmCX38jxfsx",
        "KcsvL1tOk6OY",
        "DI7GD3OmqgYB",
        "OdicUC24k7rA",
        "l73uvCKNu84S"
      ],
      "include_colab_link": true
    },
    "kernelspec": {
      "display_name": "Python 3",
      "name": "python3"
    }
  },
  "cells": [
    {
      "cell_type": "markdown",
      "metadata": {
        "id": "view-in-github",
        "colab_type": "text"
      },
      "source": [
        "<a href=\"https://colab.research.google.com/github/weasel-codes/covid19-life-death/blob/main/Covid19_Patient_Recovery_Prediction.ipynb\" target=\"_parent\"><img src=\"https://colab.research.google.com/assets/colab-badge.svg\" alt=\"Open In Colab\"/></a>"
      ]
    },
    {
      "cell_type": "markdown",
      "metadata": {
        "id": "aqqIzn1oCz-B"
      },
      "source": [
        "# Relevant imports"
      ]
    },
    {
      "cell_type": "code",
      "metadata": {
        "id": "ccqsAyG_BKNt"
      },
      "source": [
        "import numpy as np\n",
        "import pandas as pd\n",
        "import matplotlib.pyplot as plt\n",
        "from sklearn.metrics import confusion_matrix, accuracy_score\n",
        "from matplotlib.colors import ListedColormap\n",
        "from sklearn.model_selection import cross_val_score\n",
        "from sklearn.model_selection import train_test_split\n",
        "from sklearn.preprocessing import LabelEncoder\n",
        "from sklearn.compose import ColumnTransformer\n",
        "from sklearn.preprocessing import OneHotEncoder\n",
        "import seaborn as sn\n",
        "%matplotlib inline\n",
        "from sklearn.model_selection import GridSearchCV"
      ],
      "execution_count": null,
      "outputs": []
    },
    {
      "cell_type": "markdown",
      "metadata": {
        "id": "PdaVnpg5DreN"
      },
      "source": [
        "# Importing Dataset"
      ]
    },
    {
      "cell_type": "code",
      "metadata": {
        "colab": {
          "base_uri": "https://localhost:8080/"
        },
        "id": "9ef5ir93EAYk",
        "outputId": "725c5f08-956c-44fe-c685-f3994f1c73bb"
      },
      "source": [
        "dataset = pd.read_csv('PatientInfo.csv')\n",
        "# print(\"\\n\\nAll Columns : \")\n",
        "# print(dataset.info())\n",
        "dataset = dataset[{'sex','age','infection_case','confirmed_date','released_date','deceased_date', 'state'}]\n",
        "# print(\"\\n\\nRelevant Columns : \")\n",
        "# print(dataset.info())\n",
        "# print(\"Shape of Dataset : \", dataset.shape)\n",
        "print(\"No. of Nan values per column : \")\n",
        "dataset.isnull().sum()"
      ],
      "execution_count": null,
      "outputs": [
        {
          "output_type": "stream",
          "text": [
            "No. of Nan values per column : \n"
          ],
          "name": "stdout"
        },
        {
          "output_type": "execute_result",
          "data": {
            "text/plain": [
              "age               1380\n",
              "released_date     3578\n",
              "sex               1122\n",
              "deceased_date     5099\n",
              "state                0\n",
              "infection_case     919\n",
              "confirmed_date       3\n",
              "dtype: int64"
            ]
          },
          "metadata": {
            "tags": []
          },
          "execution_count": 56
        }
      ]
    },
    {
      "cell_type": "markdown",
      "metadata": {
        "id": "oJx3y5S9FFmH"
      },
      "source": [
        "# Pre-Processing Dataset"
      ]
    },
    {
      "cell_type": "code",
      "metadata": {
        "colab": {
          "base_uri": "https://localhost:8080/"
        },
        "id": "fBbKYQ8gV2vU",
        "outputId": "b1cffbea-7e0d-4114-e3d0-e8245839cf83"
      },
      "source": [
        "print(\"Shape of dataset before removing Nan from any column : \", dataset.shape)\n",
        "\n",
        "dataset = dataset.dropna(subset=['confirmed_date'], how='all')\n",
        "# print(\"\\nShape of dataset after removing Nan from confirmed_date : \", dataset.shape)\n",
        "dataset = dataset[dataset.state != 'isolated']\n",
        "# print(\"\\nShape of dataset after removing Nan from column state = isolated : \", dataset.shape)\n",
        "# print(\"No. of Nan values per column after removing Nan values from column state = isolated : \")\n",
        "# print(dataset.isnull().sum())\n",
        "dataset = dataset.dropna(subset=['deceased_date', 'released_date'], how='all')\n",
        "# print(\"\\nShape of dataset after removing Nan from column deceased and released date : \", dataset.shape)\n",
        "# print(\"No. of Nan values per column after removing released, deceased, confirmed date : \")\n",
        "# print(dataset.isnull().sum())\n",
        "dataset['sex'].fillna(method=\"ffill\", inplace = True)\n",
        "dataset['age'].fillna(method=\"ffill\", inplace = True)\n",
        "dataset['infection_case'].fillna(method=\"ffill\", inplace = True)\n",
        "print(\"No. of Nan values per column after removing Nans : \")\n",
        "print(dataset.isnull().sum())\n",
        "\n",
        "print(\"\\n\\nShape of dataset after removing Nan from any column : \", dataset.shape)\n",
        "print(\"Sample Dataset : \\n\", dataset.iloc[0])"
      ],
      "execution_count": null,
      "outputs": [
        {
          "output_type": "stream",
          "text": [
            "Shape of dataset before removing Nan from any column :  (5165, 7)\n",
            "No. of Nan values per column after removing Nans : \n",
            "age                  0\n",
            "released_date       64\n",
            "sex                  0\n",
            "deceased_date     1580\n",
            "state                0\n",
            "infection_case       0\n",
            "confirmed_date       0\n",
            "dtype: int64\n",
            "\n",
            "\n",
            "Shape of dataset after removing Nan from any column :  (1646, 7)\n",
            "Sample Dataset : \n",
            " age                           50s\n",
            "released_date          2020-02-05\n",
            "sex                          male\n",
            "deceased_date                 NaN\n",
            "state                    released\n",
            "infection_case    overseas inflow\n",
            "confirmed_date         2020-01-23\n",
            "Name: 0, dtype: object\n"
          ],
          "name": "stdout"
        }
      ]
    },
    {
      "cell_type": "markdown",
      "metadata": {
        "id": "OKkB_E40yhD5"
      },
      "source": [
        "## Processing dataset columns"
      ]
    },
    {
      "cell_type": "code",
      "metadata": {
        "id": "jDuLlm0VQPpu"
      },
      "source": [
        "age = np.array(dataset['age'])\n",
        "sex = np.array(dataset['sex'])\n",
        "state = np.array(dataset['state'])\n",
        "confirm = np.array(dataset['confirmed_date'])\n",
        "deceased = np.array(dataset['deceased_date'])\n",
        "infection = np.array(dataset['infection_case'])\n",
        "release = np.array(dataset['released_date'])"
      ],
      "execution_count": null,
      "outputs": []
    },
    {
      "cell_type": "markdown",
      "metadata": {
        "id": "SLNjP_9sywzR"
      },
      "source": [
        "## Generating array"
      ]
    },
    {
      "cell_type": "code",
      "metadata": {
        "colab": {
          "base_uri": "https://localhost:8080/"
        },
        "id": "kc1-w6mqR7NK",
        "outputId": "f95cedf9-97e0-49ab-90bf-323e85591829"
      },
      "source": [
        "data = np.column_stack((age, sex, infection, confirm, release, deceased, state))\n",
        "print(data)"
      ],
      "execution_count": null,
      "outputs": [
        {
          "output_type": "stream",
          "text": [
            "[['50s' 'male' 'overseas inflow' ... '2020-02-05' nan 'released']\n",
            " ['30s' 'male' 'overseas inflow' ... '2020-03-02' nan 'released']\n",
            " ['50s' 'male' 'contact with patient' ... '2020-02-19' nan 'released']\n",
            " ...\n",
            " ['30s' 'female' 'Itaewon Clubs' ... '2020-06-12' nan 'released']\n",
            " ['30s' 'female' 'overseas inflow' ... '2020-06-13' nan 'released']\n",
            " ['30s' 'female' 'overseas inflow' ... '2020-06-24' nan 'released']]\n"
          ],
          "name": "stdout"
        }
      ]
    },
    {
      "cell_type": "markdown",
      "metadata": {
        "id": "ylQfj1KJy0VT"
      },
      "source": [
        "## Processing age for removing 's'"
      ]
    },
    {
      "cell_type": "code",
      "metadata": {
        "colab": {
          "base_uri": "https://localhost:8080/"
        },
        "id": "k-9aLQtJIN9A",
        "outputId": "87f1d9a8-3f11-4409-9fab-4bf64eca878f"
      },
      "source": [
        "for i in range(len(data)):\n",
        "  data[i,0] = pd.to_numeric(data[i,0].replace('s',''))\n",
        "print(data)"
      ],
      "execution_count": null,
      "outputs": [
        {
          "output_type": "stream",
          "text": [
            "[[50 'male' 'overseas inflow' ... '2020-02-05' nan 'released']\n",
            " [30 'male' 'overseas inflow' ... '2020-03-02' nan 'released']\n",
            " [50 'male' 'contact with patient' ... '2020-02-19' nan 'released']\n",
            " ...\n",
            " [30 'female' 'Itaewon Clubs' ... '2020-06-12' nan 'released']\n",
            " [30 'female' 'overseas inflow' ... '2020-06-13' nan 'released']\n",
            " [30 'female' 'overseas inflow' ... '2020-06-24' nan 'released']]\n"
          ],
          "name": "stdout"
        }
      ]
    },
    {
      "cell_type": "markdown",
      "metadata": {
        "id": "IPPJTL1QBKh8"
      },
      "source": [
        "## Create new column for no. of days."
      ]
    },
    {
      "cell_type": "code",
      "metadata": {
        "colab": {
          "base_uri": "https://localhost:8080/"
        },
        "id": "5jnQ1xWXVSDT",
        "outputId": "f51f2993-4f82-419e-8268-2c504281adbb"
      },
      "source": [
        "print(\"Shape before adding column : \", data.shape)\n",
        "new_column = np.zeros((len(data), 1))\n",
        "data = np.block([data, new_column])\n",
        "print(\"Shape after adding column : \", data.shape)"
      ],
      "execution_count": null,
      "outputs": [
        {
          "output_type": "stream",
          "text": [
            "Shape before adding column :  (1646, 7)\n",
            "Shape after adding column :  (1646, 8)\n"
          ],
          "name": "stdout"
        }
      ]
    },
    {
      "cell_type": "markdown",
      "metadata": {
        "id": "RLhmaCkeCm3g"
      },
      "source": [
        "## Update No. of days\n",
        "Dataset example :\n",
        "[age, sex, infection, confirm, release, deceased, state, no_od_days]"
      ]
    },
    {
      "cell_type": "code",
      "metadata": {
        "colab": {
          "base_uri": "https://localhost:8080/"
        },
        "id": "lTTbKjQLCqQg",
        "outputId": "3e708731-a22f-43de-8dd4-7de79d2b0e0e"
      },
      "source": [
        "for i in range(len(data)) :\n",
        "  if data[i,6] == 'released' :\n",
        "    data[i,7] = (np.datetime64(data[i,4]) - np.datetime64(data[i,3]))/ np.timedelta64(1, 'D')\n",
        "  else :\n",
        "    if pd.isna(data[i,5]) : #if deceased date is empty\n",
        "      data[i,7] = (np.datetime64(data[i,4]) - np.datetime64(data[i,3]))/ np.timedelta64(1, 'D')\n",
        "    else :\n",
        "      data[i,7] = (np.datetime64(data[i,5]) - np.datetime64(data[i,3]))/ np.timedelta64(1, 'D')\n",
        "  \n",
        "print(\"Check for days change : \", data[0])"
      ],
      "execution_count": null,
      "outputs": [
        {
          "output_type": "stream",
          "text": [
            "Check for days change :  [50 'male' 'overseas inflow' '2020-01-23' '2020-02-05' nan 'released' 13.0]\n"
          ],
          "name": "stdout"
        }
      ]
    },
    {
      "cell_type": "markdown",
      "metadata": {
        "id": "-PTtjZ5pjRWL"
      },
      "source": [
        "## Data Representation\n"
      ]
    },
    {
      "cell_type": "code",
      "metadata": {
        "colab": {
          "base_uri": "https://localhost:8080/",
          "height": 385
        },
        "id": "OZyfmKc3jYEe",
        "outputId": "33c3af94-9a9e-4e58-e8a5-b06956f7853d"
      },
      "source": [
        "fig = plt.figure(figsize = (5,5))\n",
        "ax = fig.gca()\n",
        "plt.xlabel('Sex', fontweight = 'bold', fontsize = 18.0)\n",
        "plt.ylabel('Number of patients', fontweight = 'bold', fontsize = 18.0)\n",
        "plt.title('Patient distribution according to sex', fontweight = 'bold', fontsize = 20.0)\n",
        "plt.xticks(fontweight = 'bold', fontsize = 14.0)\n",
        "plt.yticks(fontweight = 'bold', fontsize = 14.0)\n",
        "plt.grid()\n",
        "plt.hist(dataset['sex'], bins = np.arange(3)-0.5, rwidth=0.8, color=['orange'])"
      ],
      "execution_count": null,
      "outputs": [
        {
          "output_type": "execute_result",
          "data": {
            "text/plain": [
              "(array([716., 930.]), array([-0.5,  0.5,  1.5]), <a list of 2 Patch objects>)"
            ]
          },
          "metadata": {
            "tags": []
          },
          "execution_count": 63
        },
        {
          "output_type": "display_data",
          "data": {
            "image/png": "[encoded data removed]",
            "text/plain": [
              "<Figure size 360x360 with 1 Axes>"
            ]
          },
          "metadata": {
            "tags": []
          }
        }
      ]
    },
    {
      "cell_type": "code",
      "metadata": {
        "colab": {
          "base_uri": "https://localhost:8080/",
          "height": 385
        },
        "id": "qbqqMyxVjZWV",
        "outputId": "be83f9c8-eedf-4694-e14a-6771c8bbd3ce"
      },
      "source": [
        "fig = plt.figure(figsize = (5,5))\n",
        "ax = fig.gca()\n",
        "plt.xlabel('State of person discharged from hospital', fontweight = 'bold', fontsize = 18.0)\n",
        "plt.ylabel('Number of patients', fontweight='bold', fontsize = 18.0)\n",
        "plt.title('Patient distribution according to state', fontweight = 'bold', fontsize = 20.0)\n",
        "plt.xticks(fontweight = 'bold', fontsize = 14.0)\n",
        "plt.yticks(fontweight = 'bold', fontsize = 14.0)\n",
        "plt.grid()\n",
        "plt.hist(dataset['state'], bins = np.arange(3)-0.5, rwidth = 0.8, color = 'orange')"
      ],
      "execution_count": null,
      "outputs": [
        {
          "output_type": "execute_result",
          "data": {
            "text/plain": [
              "(array([1579.,   67.]), array([-0.5,  0.5,  1.5]), <a list of 2 Patch objects>)"
            ]
          },
          "metadata": {
            "tags": []
          },
          "execution_count": 64
        },
        {
          "output_type": "display_data",
          "data": {
            "image/png": "[encoded data removed]",
            "text/plain": [
              "<Figure size 360x360 with 1 Axes>"
            ]
          },
          "metadata": {
            "tags": []
          }
        }
      ]
    },
    {
      "cell_type": "code",
      "metadata": {
        "colab": {
          "base_uri": "https://localhost:8080/",
          "height": 529
        },
        "id": "ASei9ZN4jcrr",
        "outputId": "2cd8d88e-9ed5-4b68-b269-36a3f4e662bc"
      },
      "source": [
        "fig = plt.figure(figsize = (25,7))\n",
        "ax = fig.gca()\n",
        "plt.xlabel('Age category', fontweight = 'bold', fontsize = 18.0)\n",
        "plt.ylabel('Number of patients', fontweight = 'bold', fontsize = 18.0)\n",
        "plt.xticks(fontweight = 'bold', fontsize = 14.0)\n",
        "plt.yticks(fontweight = 'bold', fontsize = 14.0)\n",
        "plt.grid()\n",
        "plt.title('Patient distribution in age', fontweight = 'bold', fontsize = 20.0)\n",
        "plt.hist(dataset['age'], bins = np.arange(11)-0.5, rwidth = 0.8, color = 'orange')"
      ],
      "execution_count": null,
      "outputs": [
        {
          "output_type": "execute_result",
          "data": {
            "text/plain": [
              "(array([307., 213., 418., 184., 100.,  81., 240.,  20.,  64.,  18.]),\n",
              " array([-0.5,  0.5,  1.5,  2.5,  3.5,  4.5,  5.5,  6.5,  7.5,  8.5,  9.5]),\n",
              " <a list of 10 Patch objects>)"
            ]
          },
          "metadata": {
            "tags": []
          },
          "execution_count": 65
        },
        {
          "output_type": "display_data",
          "data": {
            "image/png": "[encoded data removed]",
            "text/plain": [
              "<Figure size 1800x504 with 1 Axes>"
            ]
          },
          "metadata": {
            "tags": []
          }
        }
      ]
    },
    {
      "cell_type": "code",
      "metadata": {
        "colab": {
          "base_uri": "https://localhost:8080/",
          "height": 891
        },
        "id": "OAbSHn94jek7",
        "outputId": "e7a6a4c6-9987-40fc-ed83-bcf48e254682"
      },
      "source": [
        "fig = plt.figure(figsize = (25,7))\n",
        "ax = fig.gca()\n",
        "plt.ylabel('Number of people', fontweight = 'bold', fontsize = 18.0)\n",
        "plt.xlabel('Infection Case', fontweight = 'bold', fontsize = 18.0)\n",
        "plt.xticks(rotation = 90, fontweight = 'bold', fontsize = 14.0)\n",
        "plt.yticks(fontweight = 'bold', fontsize = 14.0)\n",
        "plt.grid()\n",
        "plt.title('Cause of Infection case', fontweight = 'bold', fontsize = 20.0)\n",
        "plt.hist(dataset['infection_case'], bins = np.arange(22)-0.5, rwidth = 0.8, color = 'orange')"
      ],
      "execution_count": null,
      "outputs": [
        {
          "output_type": "execute_result",
          "data": {
            "text/plain": [
              "(array([189., 342., 354.,   7., 187.,   1.,  17.,  27.,   5.,  28.,   4.,\n",
              "          1.,   1., 256.,  75.,  89.,   2.,   2.,  10.,  43.,   6.]),\n",
              " array([-0.5,  0.5,  1.5,  2.5,  3.5,  4.5,  5.5,  6.5,  7.5,  8.5,  9.5,\n",
              "        10.5, 11.5, 12.5, 13.5, 14.5, 15.5, 16.5, 17.5, 18.5, 19.5, 20.5]),\n",
              " <a list of 21 Patch objects>)"
            ]
          },
          "metadata": {
            "tags": []
          },
          "execution_count": 66
        },
        {
          "output_type": "display_data",
          "data": {
            "image/png": "[encoded data removed]",
            "text/plain": [
              "<Figure size 1800x504 with 1 Axes>"
            ]
          },
          "metadata": {
            "tags": []
          }
        }
      ]
    },
    {
      "cell_type": "markdown",
      "metadata": {
        "id": "2rBRRvzazgQx"
      },
      "source": [
        "## Selecting final relevant columns from array for processing data\n",
        "Dataset example : [age, sex, infection, state, no_of_days]"
      ]
    },
    {
      "cell_type": "code",
      "metadata": {
        "id": "FciICinJzmu2"
      },
      "source": [
        "relevant_data = data[:,[0,1,2,6,7]]"
      ],
      "execution_count": null,
      "outputs": []
    },
    {
      "cell_type": "markdown",
      "metadata": {
        "id": "2xkKjzl_1YYJ"
      },
      "source": [
        "## Separating relevant columns from X and Y\n",
        "We aonly need no. of days and not other dates "
      ]
    },
    {
      "cell_type": "code",
      "metadata": {
        "colab": {
          "base_uri": "https://localhost:8080/"
        },
        "id": "jTiJzg8t2VtW",
        "outputId": "4e00a3e1-89cf-4f2a-a575-b8e5cc5dbbce"
      },
      "source": [
        "X = relevant_data[:,[0,1,2,4]]\n",
        "Y = relevant_data[:,3]\n",
        "print(X[0])\n",
        "print(Y[0])"
      ],
      "execution_count": null,
      "outputs": [
        {
          "output_type": "stream",
          "text": [
            "[50 'male' 'overseas inflow' 13.0]\n",
            "released\n"
          ],
          "name": "stdout"
        }
      ]
    },
    {
      "cell_type": "markdown",
      "metadata": {
        "id": "alQl6vT10S8K"
      },
      "source": [
        "## Encoding Dataset\n",
        "encoding dataset ref : https://machinelearningmastery.com/how-to-one-hot-encode-sequence-data-in-python/"
      ]
    },
    {
      "cell_type": "code",
      "metadata": {
        "id": "kDxfT0mf23WJ"
      },
      "source": [
        "#Encoding Categorical Data with Label Encoding for Gender and One hot Encoding Country \n",
        "#Lebel Encoding when there is relation btw values : male or female : gives them 0,1,2\n",
        "#One Hot Encoding when there is no relation between them : Country : Makes separate column for each with binary values\n",
        "# reference : https://machinelearningmastery.com/how-to-one-hot-encode-sequence-data-in-python/\n",
        "from sklearn.preprocessing import LabelEncoder\n",
        "from sklearn.compose import ColumnTransformer\n",
        "from sklearn.preprocessing import OneHotEncoder"
      ],
      "execution_count": null,
      "outputs": []
    },
    {
      "cell_type": "code",
      "metadata": {
        "id": "EUXmDkkY4A8A"
      },
      "source": [
        "le = LabelEncoder()\n",
        "\n",
        "X[:,1] = le.fit_transform(X[:,1]) #For Gender 0 and 1\n",
        "Y = le.fit_transform(Y) #For Gender 0 and 1\n",
        "\n",
        "# define one hot encoding\n",
        "encoder = OneHotEncoder(sparse=False)\n",
        "ct = ColumnTransformer([('encoder', encoder, [2])],remainder='passthrough')\n",
        "X = np.array(ct.fit_transform(X))"
      ],
      "execution_count": null,
      "outputs": []
    },
    {
      "cell_type": "code",
      "metadata": {
        "colab": {
          "base_uri": "https://localhost:8080/"
        },
        "id": "drPHHrYc4qgj",
        "outputId": "5afeed9f-7c1b-4148-d374-81d42e95dde0"
      },
      "source": [
        "print(\"Before encoding X : \", X[0:5])\n",
        "print(\"After encoding Y : \", Y[0:5])"
      ],
      "execution_count": null,
      "outputs": [
        {
          "output_type": "stream",
          "text": [
            "Before encoding X :  [[0.0 0.0 0.0 0.0 0.0 0.0 0.0 0.0 0.0 0.0 0.0 0.0 0.0 0.0 0.0 0.0 0.0 0.0\n",
            "  0.0 0.0 1.0 50 1 13.0]\n",
            " [0.0 0.0 0.0 0.0 0.0 0.0 0.0 0.0 0.0 0.0 0.0 0.0 0.0 0.0 0.0 0.0 0.0 0.0\n",
            "  0.0 0.0 1.0 30 1 32.0]\n",
            " [0.0 0.0 0.0 0.0 0.0 0.0 0.0 0.0 0.0 0.0 0.0 0.0 0.0 0.0 0.0 0.0 1.0 0.0\n",
            "  0.0 0.0 0.0 50 1 20.0]\n",
            " [0.0 0.0 0.0 0.0 0.0 0.0 0.0 0.0 0.0 0.0 0.0 0.0 0.0 0.0 0.0 0.0 0.0 0.0\n",
            "  0.0 0.0 1.0 20 1 16.0]\n",
            " [0.0 0.0 0.0 0.0 0.0 0.0 0.0 0.0 0.0 0.0 0.0 0.0 0.0 0.0 0.0 0.0 1.0 0.0\n",
            "  0.0 0.0 0.0 20 0 24.0]]\n",
            "After encoding Y :  [1 1 1 1 1]\n"
          ],
          "name": "stdout"
        }
      ]
    },
    {
      "cell_type": "markdown",
      "metadata": {
        "id": "57UhhMAEEQwz"
      },
      "source": [
        "# Separating Dataset into Training and testing"
      ]
    },
    {
      "cell_type": "code",
      "metadata": {
        "colab": {
          "base_uri": "https://localhost:8080/"
        },
        "id": "o5oZy9OaETvh",
        "outputId": "2f1e79c5-533f-4cf3-f034-e289f96f6058"
      },
      "source": [
        "# To create 4 separate set : 2 for training set of dependent and independent vars and same 2 for testing set\n",
        "# XTrain XTest YTrain YTest\n",
        "\n",
        "from sklearn.model_selection import train_test_split\n",
        "X_train, X_test, Y_train, Y_test = train_test_split(X, Y, test_size=0.2, random_state=1) #80:20 :: Train:Test\n",
        "\n",
        "print(\"Train set for X : \", X_train.shape)\n",
        "print(\"Test set for X : \", X_test.shape)\n",
        "print(\"Train set for Y : \", Y_train.shape)\n",
        "print(\"Test set for Y : \", Y_test.shape)"
      ],
      "execution_count": null,
      "outputs": [
        {
          "output_type": "stream",
          "text": [
            "Train set for X :  (1316, 24)\n",
            "Test set for X :  (330, 24)\n",
            "Train set for Y :  (1316,)\n",
            "Test set for Y :  (330,)\n"
          ],
          "name": "stdout"
        }
      ]
    },
    {
      "cell_type": "markdown",
      "metadata": {
        "id": "WIQ-MfC1kQU9"
      },
      "source": [
        "# **Feature Scaling**\n",
        "\n",
        " to improve the performance we bring all the values in a very short range"
      ]
    },
    {
      "cell_type": "code",
      "metadata": {
        "id": "moEErxorkPbe"
      },
      "source": [
        "from sklearn.preprocessing import StandardScaler\n",
        "sc = StandardScaler()\n",
        "X_train = sc.fit_transform(X_train)\n",
        "X_test = sc.fit_transform(X_test)"
      ],
      "execution_count": null,
      "outputs": []
    },
    {
      "cell_type": "markdown",
      "metadata": {
        "id": "vzc2refLkjPy"
      },
      "source": [
        "# Algorithmic Models"
      ]
    },
    {
      "cell_type": "markdown",
      "metadata": {
        "id": "pYG-Bvi4kmvI"
      },
      "source": [
        "## **1.Logistic Regression** "
      ]
    },
    {
      "cell_type": "code",
      "metadata": {
        "colab": {
          "base_uri": "https://localhost:8080/"
        },
        "id": "lJR966gokmEH",
        "outputId": "b6a8e3ff-2aa0-467d-a1d5-5af4a57abda1"
      },
      "source": [
        "#Creating and training the Logistic Regression model\n",
        "from sklearn.linear_model import LogisticRegression   #importing LogisticRegression model from linear_model class of sklearn library\n",
        "LR_classifier = LogisticRegression(random_state = 0)\n",
        "LR_classifier.fit(X_train,Y_train)"
      ],
      "execution_count": null,
      "outputs": [
        {
          "output_type": "execute_result",
          "data": {
            "text/plain": [
              "LogisticRegression(C=1.0, class_weight=None, dual=False, fit_intercept=True,\n",
              "                   intercept_scaling=1, l1_ratio=None, max_iter=100,\n",
              "                   multi_class='auto', n_jobs=None, penalty='l2',\n",
              "                   random_state=0, solver='lbfgs', tol=0.0001, verbose=0,\n",
              "                   warm_start=False)"
            ]
          },
          "metadata": {
            "tags": []
          },
          "execution_count": 74
        }
      ]
    },
    {
      "cell_type": "code",
      "metadata": {
        "id": "3Bz4MPztkuCI"
      },
      "source": [
        "Y_pred_LR = LR_classifier.predict(X_test)"
      ],
      "execution_count": null,
      "outputs": []
    },
    {
      "cell_type": "code",
      "metadata": {
        "colab": {
          "base_uri": "https://localhost:8080/"
        },
        "id": "3vQI9NiTkwp2",
        "outputId": "e61993ea-19fd-424d-993a-ad5584e55ccc"
      },
      "source": [
        "cm_LR = confusion_matrix(Y_test, Y_pred_LR)\n",
        "print(cm_LR)\n",
        "print(accuracy_score(Y_test, Y_pred_LR)*100, \"% accuracy is achieved\")"
      ],
      "execution_count": null,
      "outputs": [
        {
          "output_type": "stream",
          "text": [
            "[[  5   5]\n",
            " [  2 318]]\n",
            "97.87878787878788 % accuracy is achieved\n"
          ],
          "name": "stdout"
        }
      ]
    },
    {
      "cell_type": "code",
      "metadata": {
        "colab": {
          "base_uri": "https://localhost:8080/",
          "height": 373
        },
        "id": "Z_SyoHFVkzW5",
        "outputId": "eb8595f5-f461-4553-e454-fa5ab70b8caa"
      },
      "source": [
        "plt.figure(figsize = (7,5))\n",
        "sn.heatmap(cm_LR, annot = True, fmt = 'd')\n",
        "plt.title('Confusion matrix for Logistic Regression model', fontweight = 'bold', fontsize = 16)\n",
        "plt.xlabel('Predicted', fontweight = 'bold', fontsize = 12)\n",
        "plt.ylabel('Truth', fontweight = 'bold', fontsize = 12)"
      ],
      "execution_count": null,
      "outputs": [
        {
          "output_type": "execute_result",
          "data": {
            "text/plain": [
              "Text(42.0, 0.5, 'Truth')"
            ]
          },
          "metadata": {
            "tags": []
          },
          "execution_count": 77
        },
        {
          "output_type": "display_data",
          "data": {
            "image/png": "[encoded data removed]",
            "text/plain": [
              "<Figure size 504x360 with 2 Axes>"
            ]
          },
          "metadata": {
            "tags": []
          }
        }
      ]
    },
    {
      "cell_type": "markdown",
      "metadata": {
        "id": "Yx0l7q-1oiEE"
      },
      "source": [
        "### K-Fold Cross validation"
      ]
    },
    {
      "cell_type": "code",
      "metadata": {
        "colab": {
          "base_uri": "https://localhost:8080/",
          "height": 439
        },
        "id": "6dZgXaYbonGo",
        "outputId": "2a4fc4a4-9804-4646-d033-ef533f2e6f32"
      },
      "source": [
        "# For SVM\n",
        "from sklearn.model_selection import cross_val_score\n",
        "lr_accuracies = cross_val_score(estimator = LR_classifier, X = X_train, y = Y_train, cv = 10)\n",
        "print(\"Distinct accuracies for SVM : \", lr_accuracies*100)\n",
        "print(\"Average Accuracy SVM : {:.2f} %\".format(lr_accuracies.mean()*100))\n",
        "print(\"Standard Deviation in SVM accuracies : {:.2f} %\".format(lr_accuracies.std()*100))\n",
        "\n",
        "fig = plt.figure()\n",
        "ax = fig.add_axes([0,0,1,1])\n",
        "ax.bar(np.arange(1,len(lr_accuracies)+1), lr_accuracies*100)\n",
        "plt.xlabel(\"Fold #\")\n",
        "plt.ylabel(\"Accuracy\")\n",
        "plt.title(\"Accuracy vs folds\")\n",
        "plt.show()"
      ],
      "execution_count": null,
      "outputs": [
        {
          "output_type": "stream",
          "text": [
            "Distinct accuracies for SVM :  [ 97.72727273  96.96969697  97.72727273  96.96969697 100.\n",
            "  99.24242424  96.94656489  99.23664122  97.70992366  96.94656489]\n",
            "Average Accuracy SVM : 97.95 %\n",
            "Standard Deviation in SVM accuracies : 1.08 %\n"
          ],
          "name": "stdout"
        },
        {
          "output_type": "display_data",
          "data": {
            "image/png": "[encoded data removed]",
            "text/plain": [
              "<Figure size 432x288 with 1 Axes>"
            ]
          },
          "metadata": {
            "tags": []
          }
        }
      ]
    },
    {
      "cell_type": "markdown",
      "metadata": {
        "id": "tIbbXP1zk3mQ"
      },
      "source": [
        "## SVM"
      ]
    },
    {
      "cell_type": "code",
      "metadata": {
        "colab": {
          "base_uri": "https://localhost:8080/"
        },
        "id": "yeEroIYylNSR",
        "outputId": "794501b7-0db0-4eb6-a74f-60d9f51bd472"
      },
      "source": [
        "from sklearn.svm import SVC\n",
        "SV_classifier = SVC(kernel = 'linear', random_state = 0)\n",
        "SV_classifier.fit(X_train, Y_train)"
      ],
      "execution_count": null,
      "outputs": [
        {
          "output_type": "execute_result",
          "data": {
            "text/plain": [
              "SVC(C=1.0, break_ties=False, cache_size=200, class_weight=None, coef0=0.0,\n",
              "    decision_function_shape='ovr', degree=3, gamma='scale', kernel='linear',\n",
              "    max_iter=-1, probability=False, random_state=0, shrinking=True, tol=0.001,\n",
              "    verbose=False)"
            ]
          },
          "metadata": {
            "tags": []
          },
          "execution_count": 79
        }
      ]
    },
    {
      "cell_type": "markdown",
      "metadata": {
        "id": "mNGRM0WgubVz"
      },
      "source": [
        "### Hyper parameter tuning"
      ]
    },
    {
      "cell_type": "code",
      "metadata": {
        "colab": {
          "base_uri": "https://localhost:8080/"
        },
        "id": "ib5l4bEpt8QL",
        "outputId": "27d70d04-7752-43b9-e2d8-eda14fda9ded"
      },
      "source": [
        "parameters = [{'C' : [0.25, 0.5, 0.75, 1], 'kernel' : ['linear']},\n",
        "              {'C' : [0.25, 0.5, 0.75, 1], 'kernel' : ['rbf'], 'gamma' : [0.1, 0.2, 0.3, 0.4, 0.5, 0.6, 0.7, 0.8, 0.9]}]\n",
        "\n",
        "grid_search = GridSearchCV(estimator = SV_classifier, param_grid = parameters, scoring = 'accuracy', cv = 10, n_jobs = -1) # n_jobs : use all processors\n",
        "grid_search.fit(X_train, Y_train)\n",
        "best_accuracy = grid_search.best_score_\n",
        "best_params = grid_search.best_params_\n",
        "\n",
        "print(\"BEST Accuracy SVM : {:.2f} %\".format(best_accuracy*100))\n",
        "print(\"BEST params for SVM : \", best_params)\n",
        "\n",
        "means = grid_search.cv_results_['mean_test_score']\n",
        "stds = grid_search.cv_results_['std_test_score']\n",
        "for mean, std, params in zip(means, stds, grid_search.cv_results_['params']):\n",
        "        print(\"%0.4f (+/-%0.04f) for %r\"% (mean*100, std*100*2, params))"
      ],
      "execution_count": null,
      "outputs": [
        {
          "output_type": "stream",
          "text": [
            "BEST Accuracy SVM : 98.18 %\n",
            "BEST params for SVM :  {'C': 0.5, 'kernel': 'linear'}\n",
            "98.0245 (+/-2.5603) for {'C': 0.25, 'kernel': 'linear'}\n",
            "98.1760 (+/-2.1722) for {'C': 0.5, 'kernel': 'linear'}\n",
            "98.1760 (+/-2.1722) for {'C': 0.75, 'kernel': 'linear'}\n",
            "98.1760 (+/-2.1722) for {'C': 1, 'kernel': 'linear'}\n",
            "96.2763 (+/-0.8250) for {'C': 0.25, 'gamma': 0.1, 'kernel': 'rbf'}\n",
            "96.4278 (+/-1.1955) for {'C': 0.25, 'gamma': 0.2, 'kernel': 'rbf'}\n",
            "96.4278 (+/-1.1955) for {'C': 0.25, 'gamma': 0.3, 'kernel': 'rbf'}\n",
            "96.4278 (+/-1.1955) for {'C': 0.25, 'gamma': 0.4, 'kernel': 'rbf'}\n",
            "96.4278 (+/-1.1955) for {'C': 0.25, 'gamma': 0.5, 'kernel': 'rbf'}\n",
            "96.4278 (+/-1.1955) for {'C': 0.25, 'gamma': 0.6, 'kernel': 'rbf'}\n",
            "96.4284 (+/-0.6991) for {'C': 0.25, 'gamma': 0.7, 'kernel': 'rbf'}\n",
            "96.3526 (+/-0.6061) for {'C': 0.25, 'gamma': 0.8, 'kernel': 'rbf'}\n",
            "96.3526 (+/-0.6061) for {'C': 0.25, 'gamma': 0.9, 'kernel': 'rbf'}\n",
            "97.0356 (+/-1.9829) for {'C': 0.5, 'gamma': 0.1, 'kernel': 'rbf'}\n",
            "97.1877 (+/-1.9361) for {'C': 0.5, 'gamma': 0.2, 'kernel': 'rbf'}\n",
            "97.1125 (+/-2.2379) for {'C': 0.5, 'gamma': 0.3, 'kernel': 'rbf'}\n",
            "97.1889 (+/-2.0456) for {'C': 0.5, 'gamma': 0.4, 'kernel': 'rbf'}\n",
            "97.1889 (+/-2.0456) for {'C': 0.5, 'gamma': 0.5, 'kernel': 'rbf'}\n",
            "97.1889 (+/-2.0456) for {'C': 0.5, 'gamma': 0.6, 'kernel': 'rbf'}\n",
            "97.1883 (+/-2.0450) for {'C': 0.5, 'gamma': 0.7, 'kernel': 'rbf'}\n",
            "97.1120 (+/-1.8992) for {'C': 0.5, 'gamma': 0.8, 'kernel': 'rbf'}\n",
            "97.1125 (+/-1.4871) for {'C': 0.5, 'gamma': 0.9, 'kernel': 'rbf'}\n",
            "97.1877 (+/-1.9361) for {'C': 0.75, 'gamma': 0.1, 'kernel': 'rbf'}\n",
            "97.5682 (+/-2.3348) for {'C': 0.75, 'gamma': 0.2, 'kernel': 'rbf'}\n",
            "97.5682 (+/-2.3348) for {'C': 0.75, 'gamma': 0.3, 'kernel': 'rbf'}\n",
            "97.6440 (+/-2.3988) for {'C': 0.75, 'gamma': 0.4, 'kernel': 'rbf'}\n",
            "97.6440 (+/-2.3988) for {'C': 0.75, 'gamma': 0.5, 'kernel': 'rbf'}\n",
            "97.6440 (+/-2.3988) for {'C': 0.75, 'gamma': 0.6, 'kernel': 'rbf'}\n",
            "97.6440 (+/-2.3988) for {'C': 0.75, 'gamma': 0.7, 'kernel': 'rbf'}\n",
            "97.6440 (+/-2.3988) for {'C': 0.75, 'gamma': 0.8, 'kernel': 'rbf'}\n",
            "97.6446 (+/-2.2966) for {'C': 0.75, 'gamma': 0.9, 'kernel': 'rbf'}\n",
            "97.4925 (+/-2.0455) for {'C': 1, 'gamma': 0.1, 'kernel': 'rbf'}\n",
            "97.6440 (+/-2.3988) for {'C': 1, 'gamma': 0.2, 'kernel': 'rbf'}\n",
            "97.6440 (+/-2.3988) for {'C': 1, 'gamma': 0.3, 'kernel': 'rbf'}\n",
            "97.6440 (+/-2.3988) for {'C': 1, 'gamma': 0.4, 'kernel': 'rbf'}\n",
            "97.5682 (+/-2.6132) for {'C': 1, 'gamma': 0.5, 'kernel': 'rbf'}\n",
            "97.5682 (+/-2.6132) for {'C': 1, 'gamma': 0.6, 'kernel': 'rbf'}\n",
            "97.4925 (+/-2.6342) for {'C': 1, 'gamma': 0.7, 'kernel': 'rbf'}\n",
            "97.4925 (+/-2.6342) for {'C': 1, 'gamma': 0.8, 'kernel': 'rbf'}\n",
            "97.5688 (+/-2.5197) for {'C': 1, 'gamma': 0.9, 'kernel': 'rbf'}\n"
          ],
          "name": "stdout"
        }
      ]
    },
    {
      "cell_type": "code",
      "metadata": {
        "id": "bOW0LggElQDA"
      },
      "source": [
        "Y_pred_SVM = SV_classifier.predict(X_test)"
      ],
      "execution_count": null,
      "outputs": []
    },
    {
      "cell_type": "code",
      "metadata": {
        "colab": {
          "base_uri": "https://localhost:8080/"
        },
        "id": "ed0eXEXOlSOA",
        "outputId": "7eebbb36-66ef-44da-fadc-fb3aa15e6bae"
      },
      "source": [
        "cm_SVM = confusion_matrix(Y_test, Y_pred_SVM)\n",
        "print(cm_SVM)\n",
        "print(accuracy_score(Y_test, Y_pred_SVM)*100, \"% accuracy is achieved\")"
      ],
      "execution_count": null,
      "outputs": [
        {
          "output_type": "stream",
          "text": [
            "[[  7   3]\n",
            " [  1 319]]\n",
            "98.7878787878788 % accuracy is achieved\n"
          ],
          "name": "stdout"
        }
      ]
    },
    {
      "cell_type": "code",
      "metadata": {
        "colab": {
          "base_uri": "https://localhost:8080/",
          "height": 373
        },
        "id": "MaqYxSPTlUZS",
        "outputId": "7274f0ee-fd6c-4a28-e9a3-6ce6143d2a9f"
      },
      "source": [
        "plt.figure(figsize = (7,5))\n",
        "sn.heatmap(cm_SVM, annot = True, fmt = 'd')\n",
        "plt.title('Confusion matrix for SVM model', fontweight = 'bold', fontsize = 16)\n",
        "plt.xlabel('Predicted', fontweight = 'bold', fontsize = 12)\n",
        "plt.ylabel('Truth', fontweight = 'bold', fontsize = 12)"
      ],
      "execution_count": null,
      "outputs": [
        {
          "output_type": "execute_result",
          "data": {
            "text/plain": [
              "Text(42.0, 0.5, 'Truth')"
            ]
          },
          "metadata": {
            "tags": []
          },
          "execution_count": 83
        },
        {
          "output_type": "display_data",
          "data": {
            "image/png": "[encoded data removed]",
            "text/plain": [
              "<Figure size 504x360 with 2 Axes>"
            ]
          },
          "metadata": {
            "tags": []
          }
        }
      ]
    },
    {
      "cell_type": "markdown",
      "metadata": {
        "id": "Ufvd3JOuntRK"
      },
      "source": [
        "### K-Fold Cross Validation for SVM"
      ]
    },
    {
      "cell_type": "code",
      "metadata": {
        "colab": {
          "base_uri": "https://localhost:8080/"
        },
        "id": "ImJ8wZyWnsjk",
        "outputId": "8b5ec53f-f0f7-440b-ff83-ad7ec4ba65cc"
      },
      "source": [
        "# For SVM\n",
        "from sklearn.model_selection import cross_val_score\n",
        "svm_accuracies = cross_val_score(estimator = SV_classifier, X = X_train, y = Y_train, cv = 10)\n",
        "print(\"Distinct accuracies for SVM : \", svm_accuracies*100)\n",
        "print(\"Average Accuracy SVM : {:.2f} %\".format(svm_accuracies.mean()*100))\n",
        "print(\"Standard Deviation in SVM accuracies : {:.2f} %\".format(svm_accuracies.std()*100))\n",
        "\n",
        "fig = plt.figure()\n",
        "ax = fig.add_axes([0,0,1,1])\n",
        "ax.bar(np.arange(1,len(svm_accuracies)+1), svm_accuracies*100)\n",
        "plt.xlabel(\"Fold #\")\n",
        "plt.ylabel(\"Accuracy\")\n",
        "plt.title(\"Accuracy vs folds\")\n",
        "plt.show()"
      ],
      "execution_count": null,
      "outputs": [
        {
          "output_type": "stream",
          "text": [
            "Distinct accuracies for SVM :  [ 97.72727273  96.96969697  97.72727273  97.72727273 100.\n",
            "  99.24242424  97.70992366 100.          97.70992366  96.94656489]\n",
            "Average Accuracy SVM : 98.18 %\n",
            "Standard Deviation in SVM accuracies : 1.09 %\n"
          ],
          "name": "stdout"
        },
        {
          "output_type": "display_data",
          "data": {
            "image/png": "[encoded data removed]",
            "text/plain": [
              "<Figure size 432x288 with 1 Axes>"
            ]
          },
          "metadata": {
            "tags": []
          }
        }
      ]
    },
    {
      "cell_type": "markdown",
      "metadata": {
        "id": "8UF6leUik4uP"
      },
      "source": [
        "## Decision Tree"
      ]
    },
    {
      "cell_type": "code",
      "metadata": {
        "colab": {
          "base_uri": "https://localhost:8080/"
        },
        "id": "sJYKFR_KlXgt",
        "outputId": "21cb24a0-4550-4571-d219-9c9246476a11"
      },
      "source": [
        "from sklearn.tree import DecisionTreeClassifier\n",
        "dt_classifier = DecisionTreeClassifier(criterion = 'entropy', random_state = 0)\n",
        "dt_classifier.fit(X_train, Y_train)"
      ],
      "execution_count": null,
      "outputs": [
        {
          "output_type": "execute_result",
          "data": {
            "text/plain": [
              "DecisionTreeClassifier(ccp_alpha=0.0, class_weight=None, criterion='entropy',\n",
              "                       max_depth=None, max_features=None, max_leaf_nodes=None,\n",
              "                       min_impurity_decrease=0.0, min_impurity_split=None,\n",
              "                       min_samples_leaf=1, min_samples_split=2,\n",
              "                       min_weight_fraction_leaf=0.0, presort='deprecated',\n",
              "                       random_state=0, splitter='best')"
            ]
          },
          "metadata": {
            "tags": []
          },
          "execution_count": 85
        }
      ]
    },
    {
      "cell_type": "markdown",
      "metadata": {
        "id": "8SmCX38jxfsx"
      },
      "source": [
        "### Hyper-parameter tuning\n"
      ]
    },
    {
      "cell_type": "code",
      "metadata": {
        "id": "madz88pWxjGs"
      },
      "source": [
        "# Creating Parameter Space\n",
        "# Creating a list of a sequence of integers from 1 to 30 (the number of features in X + 1)\n",
        "n_components = list(range(1,X_train.shape[1]+1,1))\n",
        "\n",
        "# Creating lists of parameter for Decision Tree Classifier\n",
        "criterion = ['gini', 'entropy']\n",
        "max_depth = [2,4,6,8,10,12]\n",
        "\n",
        "parameters = {'criterion' : criterion, 'max_depth' : max_depth}\n",
        "\n",
        "grid_search = GridSearchCV(estimator = dt_classifier, param_grid = parameters, \n",
        "                           scoring = 'accuracy', cv = 10, n_jobs = -1)\n",
        "grid_search.fit(X_train, Y_train)\n",
        "best_accuracy = grid_search.best_score_\n",
        "best_params = grid_search.best_params_\n",
        "\n",
        "print(\"BEST Accuracy Random Forest : {:.2f} %\".format(best_accuracy*100))\n",
        "print(\"BEST params for Random Forest : \", best_params)\n",
        "\n",
        "means = grid_search.cv_results_['mean_test_score']\n",
        "stds = grid_search.cv_results_['std_test_score']\n",
        "for mean, std, params in zip(means, stds, grid_search.cv_results_['params']):\n",
        "        print(\"%0.4f (+/-%0.04f) for %r\"% (mean*100, std*100*2, params))"
      ],
      "execution_count": null,
      "outputs": []
    },
    {
      "cell_type": "code",
      "metadata": {
        "id": "CzS1ozc3lXZL"
      },
      "source": [
        "y_pred_DT = dt_classifier.predict(X_test)"
      ],
      "execution_count": null,
      "outputs": []
    },
    {
      "cell_type": "code",
      "metadata": {
        "id": "OtMd-gVwlXRB"
      },
      "source": [
        "cm_DT = confusion_matrix(Y_test, y_pred_DT)\n",
        "print(cm_DT)\n",
        "print(accuracy_score(Y_test, y_pred_DT)*100, \"% accuracy is achieved\")"
      ],
      "execution_count": null,
      "outputs": []
    },
    {
      "cell_type": "code",
      "metadata": {
        "id": "tWYWFBuFlXHZ"
      },
      "source": [
        "plt.figure(figsize = (7,5))\n",
        "sn.heatmap(cm_DT, annot = True, fmt = 'd')\n",
        "plt.title('Confusion matrix for Decision Tree model', fontweight = 'bold', fontsize = 16)\n",
        "plt.xlabel('Predicted', fontweight = 'bold', fontsize = 12)\n",
        "plt.ylabel('Truth', fontweight = 'bold', fontsize = 12)"
      ],
      "execution_count": null,
      "outputs": []
    },
    {
      "cell_type": "markdown",
      "metadata": {
        "id": "YMYMPMTFppFU"
      },
      "source": [
        "### K-Fold Cross Validation\n",
        "\n"
      ]
    },
    {
      "cell_type": "code",
      "metadata": {
        "id": "BZhQ4eJxprIF"
      },
      "source": [
        "# For SVM\n",
        "from sklearn.model_selection import cross_val_score\n",
        "dt_accuracies = cross_val_score(estimator = dt_classifier, X = X_train, y = Y_train, cv = 10)\n",
        "print(\"Distinct accuracies for SVM : \", dt_accuracies*100)\n",
        "print(\"Average Accuracy SVM : {:.2f} %\".format(dt_accuracies.mean()*100))\n",
        "print(\"Standard Deviation in SVM accuracies : {:.2f} %\".format(dt_accuracies.std()*100))\n",
        "\n",
        "fig = plt.figure()\n",
        "ax = fig.add_axes([0,0,1,1])\n",
        "ax.bar(np.arange(1,len(dt_accuracies)+1), dt_accuracies*100)\n",
        "plt.xlabel(\"Fold #\")\n",
        "plt.ylabel(\"Accuracy\")\n",
        "plt.title(\"Accuracy vs folds\")\n",
        "plt.show()"
      ],
      "execution_count": null,
      "outputs": []
    },
    {
      "cell_type": "markdown",
      "metadata": {
        "id": "KcsvL1tOk6OY"
      },
      "source": [
        "## Naive Bayes"
      ]
    },
    {
      "cell_type": "code",
      "metadata": {
        "id": "BVc7G9XGllLK"
      },
      "source": [
        "from sklearn.naive_bayes import GaussianNB\n",
        "nb_classifier = GaussianNB()\n",
        "nb_classifier.fit(X_train, Y_train)"
      ],
      "execution_count": null,
      "outputs": []
    },
    {
      "cell_type": "code",
      "metadata": {
        "id": "6X4-IhjDllFq"
      },
      "source": [
        "y_pred_NB = nb_classifier.predict(X_test)"
      ],
      "execution_count": null,
      "outputs": []
    },
    {
      "cell_type": "code",
      "metadata": {
        "id": "D_QIGdPglk-C"
      },
      "source": [
        "cm_NB = confusion_matrix(Y_test, y_pred_NB)\n",
        "print(cm_NB)\n",
        "print(accuracy_score(Y_test, y_pred_NB),\"% accuracy is achieved\")"
      ],
      "execution_count": null,
      "outputs": []
    },
    {
      "cell_type": "code",
      "metadata": {
        "id": "bDXW07Pplk1P"
      },
      "source": [
        "plt.figure(figsize = (7,5))\n",
        "sn.heatmap(cm_NB, annot = True, fmt = 'd')\n",
        "plt.title('Confusion matrix for Naive Bayes model', fontweight = 'bold', fontsize = 16)\n",
        "plt.xlabel('Predicted', fontweight = 'bold', fontsize = 12)\n",
        "plt.ylabel('Truth', fontweight = 'bold', fontsize = 12)"
      ],
      "execution_count": null,
      "outputs": []
    },
    {
      "cell_type": "markdown",
      "metadata": {
        "id": "DI7GD3OmqgYB"
      },
      "source": [
        "### K-Fold Cross Validation"
      ]
    },
    {
      "cell_type": "code",
      "metadata": {
        "id": "BAXoCnA8qfOM"
      },
      "source": [
        "from sklearn.model_selection import cross_val_score\n",
        "nb_accuracies = cross_val_score(estimator = nb_classifier, X = X_train, y = Y_train, cv = 10)\n",
        "print(\"Distinct accuracies for NB : \", nb_accuracies*100)\n",
        "print(\"Average Accuracy NB : {:.2f} %\".format(nb_accuracies.mean()*100))\n",
        "print(\"Standard Deviation in NB accuracies : {:.2f} %\".format(nb_accuracies.std()*100))\n",
        "\n",
        "fig = plt.figure()\n",
        "ax = fig.add_axes([0,0,1,1])\n",
        "ax.bar(np.arange(1,len(nb_accuracies)+1), nb_accuracies*100)\n",
        "plt.xlabel(\"Fold #\")\n",
        "plt.ylabel(\"Accuracy\")\n",
        "plt.title(\"Accuracy vs folds\")\n",
        "plt.show()"
      ],
      "execution_count": null,
      "outputs": []
    },
    {
      "cell_type": "markdown",
      "metadata": {
        "id": "OdicUC24k7rA"
      },
      "source": [
        "## Random Forest"
      ]
    },
    {
      "cell_type": "code",
      "metadata": {
        "id": "dmKYtT2nl4xn"
      },
      "source": [
        "from sklearn.ensemble import RandomForestClassifier\n",
        "rf_classifier = RandomForestClassifier(n_estimators = 10, criterion = 'entropy', random_state = 0)\n",
        "rf_classifier.fit(X_train, Y_train)"
      ],
      "execution_count": null,
      "outputs": []
    },
    {
      "cell_type": "markdown",
      "metadata": {
        "id": "l73uvCKNu84S"
      },
      "source": [
        "### Hyper prameter tuning"
      ]
    },
    {
      "cell_type": "code",
      "metadata": {
        "id": "8vhvCSQWvAIh"
      },
      "source": [
        "parameters = {'max_depth': [10], 'n_estimators': [40, 50, 70, 80, 100, 120, 150, 170, 200]}\n",
        "\n",
        "grid_search = GridSearchCV(estimator = rf_classifier, param_grid = parameters, \n",
        "                           scoring = 'accuracy', cv = 10, n_jobs = -1)\n",
        "grid_search.fit(X_train, Y_train)\n",
        "best_accuracy = grid_search.best_score_\n",
        "best_params = grid_search.best_params_\n",
        "\n",
        "print(\"BEST Accuracy Random Forest : {:.2f} %\".format(best_accuracy*100))\n",
        "print(\"BEST params for Random Forest : \", best_params)\n",
        "\n",
        "means = grid_search.cv_results_['mean_test_score']\n",
        "stds = grid_search.cv_results_['std_test_score']\n",
        "for mean, std, params in zip(means, stds, grid_search.cv_results_['params']):\n",
        "        print(\"%0.4f (+/-%0.04f) for %r\"% (mean*100, std*100*2, params))"
      ],
      "execution_count": null,
      "outputs": []
    },
    {
      "cell_type": "code",
      "metadata": {
        "id": "A95ZxlF9RNS7"
      },
      "source": [
        "y_pred_RF = rf_classifier.predict(X_test)"
      ],
      "execution_count": null,
      "outputs": []
    },
    {
      "cell_type": "code",
      "metadata": {
        "id": "DbusXQmLRWkc"
      },
      "source": [
        "cm_RF = confusion_matrix(Y_test, y_pred_RF)\n",
        "print(cm_RF)\n",
        "accuracy_score(Y_test, y_pred_RF)"
      ],
      "execution_count": null,
      "outputs": []
    },
    {
      "cell_type": "code",
      "metadata": {
        "id": "k8JqXvExWEVM"
      },
      "source": [
        "plt.figure(figsize = (7,5))\n",
        "sn.heatmap(cm_RF, annot = True, fmt = 'd')\n",
        "plt.xlabel('Predicted', fontweight = 'bold', fontsize = 12)\n",
        "plt.title('Confusion matrix for Random Forest model', fontweight = 'bold', fontsize = 16)\n",
        "plt.ylabel('Truth', fontweight = 'bold', fontsize = 12)"
      ],
      "execution_count": null,
      "outputs": []
    },
    {
      "cell_type": "markdown",
      "metadata": {
        "id": "XCFIi2-VrjVC"
      },
      "source": [
        "### K-Fold Cross validatoin"
      ]
    },
    {
      "cell_type": "code",
      "metadata": {
        "id": "ZVM7JoNerll7"
      },
      "source": [
        "from sklearn.model_selection import cross_val_score\n",
        "rf_accuracies = cross_val_score(estimator = rf_classifier, X = X_train, y = Y_train, cv = 10)\n",
        "print(\"Distinct accuracies for NB : \", rf_accuracies*100)\n",
        "print(\"Average Accuracy NB : {:.2f} %\".format(rf_accuracies.mean()*100))\n",
        "print(\"Standard Deviation in NB accuracies : {:.2f} %\".format(rf_accuracies.std()*100))\n",
        "\n",
        "fig = plt.figure()\n",
        "ax = fig.add_axes([0,0,1,1])\n",
        "ax.bar(np.arange(1,len(rf_accuracies)+1), rf_accuracies*100)\n",
        "plt.xlabel(\"Fold #\")\n",
        "plt.ylabel(\"Accuracy\")\n",
        "plt.title(\"Accuracy vs folds\")\n",
        "plt.show()"
      ],
      "execution_count": null,
      "outputs": []
    },
    {
      "cell_type": "markdown",
      "metadata": {
        "id": "-3QrFJqHk-1Z"
      },
      "source": [
        "## K-Nearest Neighbours"
      ]
    },
    {
      "cell_type": "code",
      "metadata": {
        "id": "599uGkICmXfx"
      },
      "source": [
        "from sklearn.neighbors import KNeighborsClassifier\n",
        "knn_classifier = KNeighborsClassifier(n_neighbors = 10, metric = 'minkowski', p = 2)\n",
        "knn_classifier.fit(X_train, Y_train)"
      ],
      "execution_count": null,
      "outputs": []
    },
    {
      "cell_type": "markdown",
      "metadata": {
        "id": "Y_yEdJIuv2Vu"
      },
      "source": [
        "### Hyper parameter tuning"
      ]
    },
    {
      "cell_type": "code",
      "metadata": {
        "colab": {
          "background_save": true
        },
        "id": "g82zlfh8vvXT",
        "outputId": "6905f37c-5533-495d-a3ec-621859f2d8b6"
      },
      "source": [
        "parameters = {'n_neighbors': [5, 10, 15, 20, 25, 30, 35, 40, 45, 50], 'metric' : ['minkowski'], 'p' : [2]}\n",
        "\n",
        "grid_search = GridSearchCV(estimator = knn_classifier, param_grid = parameters, \n",
        "                           scoring = 'accuracy', cv = 10, n_jobs = -1)\n",
        "grid_search.fit(X_train, Y_train)\n",
        "best_accuracy = grid_search.best_score_\n",
        "best_params = grid_search.best_params_\n",
        "\n",
        "print(\"BEST Accuracy KNN : {:.2f} %\".format(best_accuracy*100))\n",
        "print(\"BEST params for KNN : \", best_params)\n",
        "\n",
        "means = grid_search.cv_results_['mean_test_score']\n",
        "stds = grid_search.cv_results_['std_test_score']\n",
        "for mean, std, params in zip(means, stds, grid_search.cv_results_['params']):\n",
        "        print(\"%0.4f (+/-%0.04f) for %r\"% (mean*100, std*100*2, params))"
      ],
      "execution_count": null,
      "outputs": [
        {
          "output_type": "stream",
          "text": [
            "BEST Accuracy KNN : 97.57 %\n",
            "BEST params for KNN :  {'metric': 'minkowski', 'n_neighbors': 5, 'p': 2}\n",
            "97.5682 (+/-2.6132) for {'metric': 'minkowski', 'n_neighbors': 5, 'p': 2}\n",
            "96.8847 (+/-2.0936) for {'metric': 'minkowski', 'n_neighbors': 10, 'p': 2}\n",
            "96.4278 (+/-1.1955) for {'metric': 'minkowski', 'n_neighbors': 15, 'p': 2}\n",
            "96.4278 (+/-1.1955) for {'metric': 'minkowski', 'n_neighbors': 20, 'p': 2}\n",
            "96.2763 (+/-0.8250) for {'metric': 'minkowski', 'n_neighbors': 25, 'p': 2}\n",
            "96.2763 (+/-0.8250) for {'metric': 'minkowski', 'n_neighbors': 30, 'p': 2}\n",
            "95.6697 (+/-0.6727) for {'metric': 'minkowski', 'n_neighbors': 35, 'p': 2}\n",
            "95.6697 (+/-0.6727) for {'metric': 'minkowski', 'n_neighbors': 40, 'p': 2}\n",
            "95.6697 (+/-0.6727) for {'metric': 'minkowski', 'n_neighbors': 45, 'p': 2}\n",
            "95.6697 (+/-0.6727) for {'metric': 'minkowski', 'n_neighbors': 50, 'p': 2}\n"
          ],
          "name": "stdout"
        }
      ]
    },
    {
      "cell_type": "code",
      "metadata": {
        "colab": {
          "background_save": true
        },
        "id": "uoqJCKA1mXT4"
      },
      "source": [
        "y_pred_KNN = knn_classifier.predict(X_test)"
      ],
      "execution_count": null,
      "outputs": []
    },
    {
      "cell_type": "code",
      "metadata": {
        "colab": {
          "background_save": true
        },
        "id": "TWOaWgOYmXRF",
        "outputId": "b19fc8d6-4a99-4474-8e9c-4ade0646ac92"
      },
      "source": [
        "cm_KNN = confusion_matrix(Y_test, y_pred_KNN)\n",
        "print(cm_KNN)\n",
        "print(accuracy_score(Y_test, y_pred_KNN)*100, \"% accuracy is achieved\")"
      ],
      "execution_count": null,
      "outputs": [
        {
          "output_type": "stream",
          "text": [
            "[[  7   3]\n",
            " [  2 318]]\n",
            "98.48484848484848 % accuracy is achieved\n"
          ],
          "name": "stdout"
        }
      ]
    },
    {
      "cell_type": "code",
      "metadata": {
        "colab": {
          "background_save": true
        },
        "id": "bT3zZaC7mXLt",
        "outputId": "82bc310e-d3e5-4bff-80a0-b47a9beb52be"
      },
      "source": [
        "plt.figure(figsize = (7,5))\n",
        "sn.heatmap(cm_KNN, annot = True, fmt = 'd')\n",
        "plt.title('Confusion matrix for K Nearest Neighbour model', fontweight = 'bold', fontsize = 16)\n",
        "plt.xlabel('Predicted', fontweight = 'bold', fontsize = 12)\n",
        "plt.ylabel('Truth', fontweight = 'bold', fontsize = 12)"
      ],
      "execution_count": null,
      "outputs": [
        {
          "output_type": "execute_result",
          "data": {
            "text/plain": [
              "Text(42.0, 0.5, 'Truth')"
            ]
          },
          "metadata": {
            "tags": []
          },
          "execution_count": 0
        },
        {
          "output_type": "display_data",
          "data": {
            "image/png": "[encoded data removed]",
            "text/plain": [
              "<Figure size 504x360 with 2 Axes>"
            ]
          },
          "metadata": {
            "tags": []
          }
        }
      ]
    },
    {
      "cell_type": "markdown",
      "metadata": {
        "id": "a4lDA-ZWsCnE"
      },
      "source": [
        "### K-Fold Cross validation for KNN"
      ]
    },
    {
      "cell_type": "code",
      "metadata": {
        "colab": {
          "background_save": true
        },
        "id": "iIeVeNfTsG7P",
        "outputId": "4784cb0b-9b18-4c78-f391-bcc443f7cea0"
      },
      "source": [
        "from sklearn.model_selection import cross_val_score\n",
        "knn_accuracies = cross_val_score(estimator = knn_classifier, X = X_train, y = Y_train, cv = 10)\n",
        "print(\"Distinct accuracies for KNN : \", knn_accuracies*100)\n",
        "print(\"Average Accuracy KNN : {:.2f} %\".format(knn_accuracies.mean()*100))\n",
        "print(\"Standard Deviation in KNN accuracies : {:.2f} %\".format(knn_accuracies.std()*100))\n",
        "\n",
        "fig = plt.figure()\n",
        "ax = fig.add_axes([0,0,1,1])\n",
        "ax.bar(np.arange(1,len(knn_accuracies)+1), knn_accuracies*100)\n",
        "plt.xlabel(\"Fold #\")\n",
        "plt.ylabel(\"Accuracy\")\n",
        "plt.title(\"Accuracy vs folds\")\n",
        "plt.show()"
      ],
      "execution_count": null,
      "outputs": [
        {
          "output_type": "stream",
          "text": [
            "Distinct accuracies for KNN :  [96.21212121 96.21212121 97.72727273 96.96969697 97.72727273 96.21212121\n",
            " 95.41984733 99.23664122 96.94656489 96.18320611]\n",
            "Average Accuracy KNN : 96.88 %\n",
            "Standard Deviation in KNN accuracies : 1.05 %\n"
          ],
          "name": "stdout"
        },
        {
          "output_type": "display_data",
          "data": {
            "image/png": "[encoded data removed]",
            "text/plain": [
              "<Figure size 432x288 with 1 Axes>"
            ]
          },
          "metadata": {
            "tags": []
          }
        }
      ]
    }
  ]
}