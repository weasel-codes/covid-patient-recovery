{
  "nbformat": 4,
  "nbformat_minor": 0,
  "metadata": {
    "colab": {
      "name": "Covid19-Patient-Recovery-Prediction.ipynb",
      "provenance": [],
      "collapsed_sections": [
        "IPPJTL1QBKh8"
      ],
      "authorship_tag": "ABX9TyP8uiznFTKe5IGiPjXpkXjN",
      "include_colab_link": true
    },
    "kernelspec": {
      "name": "python3",
      "display_name": "Python 3"
    }
  },
  "cells": [
    {
      "cell_type": "markdown",
      "metadata": {
        "id": "view-in-github",
        "colab_type": "text"
      },
      "source": [
        "<a href=\"https://colab.research.google.com/github/weasel-codes/covid-patient-recovery/blob/main/Covid19_Patient_Recovery_Prediction.ipynb\" target=\"_parent\"><img src=\"https://colab.research.google.com/assets/colab-badge.svg\" alt=\"Open In Colab\"/></a>"
      ]
    },
    {
      "cell_type": "markdown",
      "metadata": {
        "id": "aqqIzn1oCz-B"
      },
      "source": [
        "# Relevant imports"
      ]
    },
    {
      "cell_type": "code",
      "metadata": {
        "id": "ccqsAyG_BKNt"
      },
      "source": [
        "import numpy as np\n",
        "import matplotlib.pyplot as plot\n",
        "import pandas as pd"
      ],
      "execution_count": 75,
      "outputs": []
    },
    {
      "cell_type": "markdown",
      "metadata": {
        "id": "PdaVnpg5DreN"
      },
      "source": [
        "# Importing Dataset"
      ]
    },
    {
      "cell_type": "code",
      "metadata": {
        "colab": {
          "base_uri": "https://localhost:8080/"
        },
        "id": "9ef5ir93EAYk",
        "outputId": "b658e007-2418-4be9-e381-60cf59e2d2f0"
      },
      "source": [
        "dataset = pd.read_csv('PatientInfo.csv')\n",
        "# print(\"\\n\\nAll Columns : \")\n",
        "# print(dataset.info())\n",
        "dataset = dataset[{'sex','age','infection_case','confirmed_date','released_date','deceased_date', 'state'}]\n",
        "# print(\"\\n\\nRelevant Columns : \")\n",
        "# print(dataset.info())\n",
        "# print(\"Shape of Dataset : \", dataset.shape)\n",
        "print(\"No. of Nan values per column : \")\n",
        "dataset.isnull().sum()"
      ],
      "execution_count": 76,
      "outputs": [
        {
          "output_type": "stream",
          "text": [
            "No. of Nan values per column : \n"
          ],
          "name": "stdout"
        },
        {
          "output_type": "execute_result",
          "data": {
            "text/plain": [
              "age               1380\n",
              "confirmed_date       3\n",
              "sex               1122\n",
              "deceased_date     5099\n",
              "state                0\n",
              "infection_case     919\n",
              "released_date     3578\n",
              "dtype: int64"
            ]
          },
          "metadata": {
            "tags": []
          },
          "execution_count": 76
        }
      ]
    },
    {
      "cell_type": "code",
      "metadata": {
        "colab": {
          "base_uri": "https://localhost:8080/"
        },
        "id": "fBbKYQ8gV2vU",
        "outputId": "0bc107e9-9d45-4844-e283-ab321c6cebcb"
      },
      "source": [
        "print(\"Shape of dataset before removing Nan from any column : \", dataset.shape)\n",
        "\n",
        "dataset = dataset.dropna(subset=['confirmed_date'], how='all')\n",
        "# print(\"\\nShape of dataset after removing Nan from confirmed_date : \", dataset.shape)\n",
        "dataset = dataset[dataset.state != 'isolated']\n",
        "# print(\"\\nShape of dataset after removing Nan from column state = isolated : \", dataset.shape)\n",
        "# print(\"No. of Nan values per column after removing Nan values from column state = isolated : \")\n",
        "# print(dataset.isnull().sum())\n",
        "dataset = dataset.dropna(subset=['deceased_date', 'released_date'], how='all')\n",
        "# print(\"\\nShape of dataset after removing Nan from column deceased and released date : \", dataset.shape)\n",
        "# print(\"No. of Nan values per column after removing released, deceased, confirmed date : \")\n",
        "# print(dataset.isnull().sum())\n",
        "dataset['sex'].fillna(method=\"ffill\", inplace = True)\n",
        "dataset['age'].fillna(method=\"ffill\", inplace = True)\n",
        "dataset['infection_case'].fillna(method=\"ffill\", inplace = True)\n",
        "print(\"No. of Nan values per column after removing Nans : \")\n",
        "print(dataset.isnull().sum())\n",
        "print(\"\\n\\nSample Dataset : \\n\", dataset.iloc[0])"
      ],
      "execution_count": 77,
      "outputs": [
        {
          "output_type": "stream",
          "text": [
            "Shape of dataset before removing Nan from any column :  (5165, 7)\n",
            "No. of Nan values per column after removing Nans : \n",
            "age                  0\n",
            "confirmed_date       0\n",
            "sex                  0\n",
            "deceased_date     1580\n",
            "state                0\n",
            "infection_case       0\n",
            "released_date       64\n",
            "dtype: int64\n",
            "\n",
            "\n",
            "Sample Dataset : \n",
            " age                           50s\n",
            "confirmed_date         2020-01-23\n",
            "sex                          male\n",
            "deceased_date                 NaN\n",
            "state                    released\n",
            "infection_case    overseas inflow\n",
            "released_date          2020-02-05\n",
            "Name: 0, dtype: object\n"
          ],
          "name": "stdout"
        }
      ]
    },
    {
      "cell_type": "code",
      "metadata": {
        "id": "jDuLlm0VQPpu"
      },
      "source": [
        "age = np.array(dataset['age'])\n",
        "sex = np.array(dataset['sex'])\n",
        "state = np.array(dataset['state'])\n",
        "confirm = np.array(dataset['confirmed_date'])\n",
        "deceased = np.array(dataset['deceased_date'])\n",
        "infection = np.array(dataset['infection_case'])\n",
        "release = np.array(dataset['released_date'])"
      ],
      "execution_count": 78,
      "outputs": []
    },
    {
      "cell_type": "code",
      "metadata": {
        "colab": {
          "base_uri": "https://localhost:8080/"
        },
        "id": "kc1-w6mqR7NK",
        "outputId": "545faa4c-0f35-43ae-bbba-ad53e8f507e2"
      },
      "source": [
        "data = np.column_stack((age, sex, infection, confirm, release, deceased, state))\n",
        "print(data)"
      ],
      "execution_count": 79,
      "outputs": [
        {
          "output_type": "stream",
          "text": [
            "[['50s' 'male' 'overseas inflow' ... '2020-02-05' nan 'released']\n",
            " ['30s' 'male' 'overseas inflow' ... '2020-03-02' nan 'released']\n",
            " ['50s' 'male' 'contact with patient' ... '2020-02-19' nan 'released']\n",
            " ...\n",
            " ['30s' 'female' 'Itaewon Clubs' ... '2020-06-12' nan 'released']\n",
            " ['30s' 'female' 'overseas inflow' ... '2020-06-13' nan 'released']\n",
            " ['30s' 'female' 'overseas inflow' ... '2020-06-24' nan 'released']]\n"
          ],
          "name": "stdout"
        }
      ]
    },
    {
      "cell_type": "code",
      "metadata": {
        "id": "k-9aLQtJIN9A",
        "colab": {
          "base_uri": "https://localhost:8080/"
        },
        "outputId": "f3e71f7e-3c35-452e-93ad-81d287ed4ab5"
      },
      "source": [
        "for i in range(len(data)):\n",
        "  data[i,0] = pd.to_numeric(data[i,0].replace('s',''))\n",
        "print(data)"
      ],
      "execution_count": 80,
      "outputs": [
        {
          "output_type": "stream",
          "text": [
            "[[50 'male' 'overseas inflow' ... '2020-02-05' nan 'released']\n",
            " [30 'male' 'overseas inflow' ... '2020-03-02' nan 'released']\n",
            " [50 'male' 'contact with patient' ... '2020-02-19' nan 'released']\n",
            " ...\n",
            " [30 'female' 'Itaewon Clubs' ... '2020-06-12' nan 'released']\n",
            " [30 'female' 'overseas inflow' ... '2020-06-13' nan 'released']\n",
            " [30 'female' 'overseas inflow' ... '2020-06-24' nan 'released']]\n"
          ],
          "name": "stdout"
        }
      ]
    },
    {
      "cell_type": "markdown",
      "metadata": {
        "id": "mpLPQiiEykbo"
      },
      "source": [
        "# Generate Array out of Dataset"
      ]
    },
    {
      "cell_type": "markdown",
      "metadata": {
        "id": "IPPJTL1QBKh8"
      },
      "source": [
        "# Create new column for no. of days."
      ]
    },
    {
      "cell_type": "code",
      "metadata": {
        "id": "5jnQ1xWXVSDT",
        "colab": {
          "base_uri": "https://localhost:8080/"
        },
        "outputId": "54d4f4da-7383-4b20-d4b0-976ade26c7ca"
      },
      "source": [
        "print(data.shape)\n",
        "new_column = np.zeros((len(data), 1))\n",
        "data = np.block([data, new_column])\n",
        "print(data.shape)"
      ],
      "execution_count": 81,
      "outputs": [
        {
          "output_type": "stream",
          "text": [
            "(1646, 7)\n",
            "(1646, 8)\n"
          ],
          "name": "stdout"
        }
      ]
    },
    {
      "cell_type": "markdown",
      "metadata": {
        "id": "RLhmaCkeCm3g"
      },
      "source": [
        "# Update No. of days\n",
        "Dataset example :\n",
        "[age, sex, infection, confirm, release, deceased, state]"
      ]
    },
    {
      "cell_type": "code",
      "metadata": {
        "colab": {
          "base_uri": "https://localhost:8080/"
        },
        "id": "lTTbKjQLCqQg",
        "outputId": "44dc924d-4f2a-471f-fdad-ed4bbdb71cb2"
      },
      "source": [
        "for i in range(len(data)) :\n",
        "  if data[i,6] == 'released' :\n",
        "    data[i,7] = (np.datetime64(data[i,4]) - np.datetime64(data[i,3]))/ np.timedelta64(1, 'D')\n",
        "  else :\n",
        "    if pd.isna(data[i,5]) : #if deceased date is empty\n",
        "      data[i,7] = (np.datetime64(data[i,4]) - np.datetime64(data[i,3]))/ np.timedelta64(1, 'D')\n",
        "    else :\n",
        "      data[i,7] = (np.datetime64(data[i,5]) - np.datetime64(data[i,3]))/ np.timedelta64(1, 'D')\n",
        "  \n",
        "print(\"Check for days change : \", data[0])"
      ],
      "execution_count": 83,
      "outputs": [
        {
          "output_type": "stream",
          "text": [
            "Check for days change :  [50 'male' 'overseas inflow' '2020-01-23' '2020-02-05' nan 'released' 13.0]\n"
          ],
          "name": "stdout"
        }
      ]
    }
  ]
}